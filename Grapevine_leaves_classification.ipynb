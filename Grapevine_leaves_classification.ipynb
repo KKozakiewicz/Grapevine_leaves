{
  "cells": [
    {
      "cell_type": "code",
      "execution_count": 2,
      "id": "459bceb5",
      "metadata": {
        "id": "459bceb5"
      },
      "outputs": [],
      "source": [
        "from tensorflow.keras.models import Sequential, load_model\n",
        "from keras.layers import Conv2D, MaxPooling2D, Flatten, Dense, Dropout\n",
        "from keras.callbacks import EarlyStopping\n",
        "from tensorflow.keras.layers import BatchNormalization, Dropout\n",
        "from tensorflow.keras.preprocessing import image\n",
        "from tensorflow.keras.preprocessing.image import ImageDataGenerator\n",
        "from tensorflow.keras.regularizers import l1_l2\n",
        "from tensorflow.keras.optimizers import Adam\n",
        "from tensorflow.keras.applications import InceptionV3, VGG16\n",
        "\n",
        "from sklearn.metrics import accuracy_score, precision_recall_fscore_support\n",
        "\n",
        "import numpy as np\n",
        "import pandas as pd\n",
        "import tensorflow as tf\n",
        "import matplotlib.pyplot as plt\n",
        "from PIL import Image\n",
        "\n",
        "import os\n",
        "import requests\n",
        "import zipfile\n",
        "import glob\n",
        "\n",
        "from sklearn.model_selection import train_test_split\n",
        "\n",
        "from os import listdir\n",
        "from os.path import isdir, isfile, join"
      ]
    },
    {
      "cell_type": "code",
      "source": [
        "target_directory = 'data/'\n",
        "\n",
        "zip_url = 'https://www.muratkoklu.com/datasets/vtdhnd10.php'\n",
        "\n",
        "os.makedirs(target_directory, exist_ok=True)\n",
        "response = requests.get(zip_url)\n",
        "zip_path = os.path.join(target_directory, 'data.zip')\n",
        "\n",
        "with open(zip_path, 'wb') as zip_file:\n",
        "    zip_file.write(response.content)\n",
        "\n",
        "with zipfile.ZipFile(zip_path, 'r') as zip_ref:\n",
        "    zip_ref.extractall(target_directory)"
      ],
      "metadata": {
        "id": "H5yAzOAFmf7v"
      },
      "id": "H5yAzOAFmf7v",
      "execution_count": 3,
      "outputs": []
    },
    {
      "cell_type": "code",
      "source": [
        "data_dir = os.path.join(target_directory, 'Grapevine_Leaves_Image_Dataset/*')\n",
        "\n",
        "data = []\n",
        "labels = []\n",
        "\n",
        "\n",
        "for class_folder in glob.glob(data_dir):\n",
        "    label = os.path.basename(class_folder)\n",
        "\n",
        "    for image_path in glob.glob(os.path.join(class_folder, '*.png')):\n",
        "        labels.append(label)\n",
        "        data.append(image_path)"
      ],
      "metadata": {
        "id": "9hm08hEhps0p"
      },
      "id": "9hm08hEhps0p",
      "execution_count": 4,
      "outputs": []
    },
    {
      "cell_type": "code",
      "source": [
        "print(len(data))"
      ],
      "metadata": {
        "id": "METkMJXlq_OJ",
        "outputId": "d4bbbd03-2645-43a0-a258-bdc42352ee1b",
        "colab": {
          "base_uri": "https://localhost:8080/"
        }
      },
      "id": "METkMJXlq_OJ",
      "execution_count": 5,
      "outputs": [
        {
          "output_type": "stream",
          "name": "stdout",
          "text": [
            "500\n"
          ]
        }
      ]
    },
    {
      "cell_type": "code",
      "source": [
        "X_train, X_test, y_train, y_test = train_test_split(data, labels, test_size=0.2)\n"
      ],
      "metadata": {
        "id": "qPDG0k3Vtcp9"
      },
      "id": "qPDG0k3Vtcp9",
      "execution_count": 6,
      "outputs": []
    },
    {
      "cell_type": "code",
      "source": [
        "print(X_train)\n",
        "\n"
      ],
      "metadata": {
        "colab": {
          "base_uri": "https://localhost:8080/"
        },
        "id": "uoqY1PJKv4YR",
        "outputId": "ba1e2e7b-a112-44f9-8c33-794e9a0a9dce"
      },
      "id": "uoqY1PJKv4YR",
      "execution_count": 7,
      "outputs": [
        {
          "output_type": "stream",
          "name": "stdout",
          "text": [
            "['data/Grapevine_Leaves_Image_Dataset/Ak/Ak (81).png', 'data/Grapevine_Leaves_Image_Dataset/Ala_Idris/Ala_Idris (68).png', 'data/Grapevine_Leaves_Image_Dataset/Buzgulu/Buzgulu (73).png', 'data/Grapevine_Leaves_Image_Dataset/Dimnit/Dimnit (43).png', 'data/Grapevine_Leaves_Image_Dataset/Ak/Ak (65).png', 'data/Grapevine_Leaves_Image_Dataset/Buzgulu/Buzgulu (47).png', 'data/Grapevine_Leaves_Image_Dataset/Nazli/Nazli (34).png', 'data/Grapevine_Leaves_Image_Dataset/Buzgulu/Buzgulu (39).png', 'data/Grapevine_Leaves_Image_Dataset/Dimnit/Dimnit (70).png', 'data/Grapevine_Leaves_Image_Dataset/Nazli/Nazli (29).png', 'data/Grapevine_Leaves_Image_Dataset/Ak/Ak (52).png', 'data/Grapevine_Leaves_Image_Dataset/Ala_Idris/Ala_Idris (89).png', 'data/Grapevine_Leaves_Image_Dataset/Buzgulu/Buzgulu (88).png', 'data/Grapevine_Leaves_Image_Dataset/Nazli/Nazli (95).png', 'data/Grapevine_Leaves_Image_Dataset/Nazli/Nazli (13).png', 'data/Grapevine_Leaves_Image_Dataset/Ala_Idris/Ala_Idris (58).png', 'data/Grapevine_Leaves_Image_Dataset/Dimnit/Dimnit (68).png', 'data/Grapevine_Leaves_Image_Dataset/Ak/Ak (68).png', 'data/Grapevine_Leaves_Image_Dataset/Ala_Idris/Ala_Idris (98).png', 'data/Grapevine_Leaves_Image_Dataset/Nazli/Nazli (11).png', 'data/Grapevine_Leaves_Image_Dataset/Nazli/Nazli (57).png', 'data/Grapevine_Leaves_Image_Dataset/Nazli/Nazli (48).png', 'data/Grapevine_Leaves_Image_Dataset/Ak/Ak (63).png', 'data/Grapevine_Leaves_Image_Dataset/Dimnit/Dimnit (18).png', 'data/Grapevine_Leaves_Image_Dataset/Ak/Ak (70).png', 'data/Grapevine_Leaves_Image_Dataset/Buzgulu/Buzgulu (32).png', 'data/Grapevine_Leaves_Image_Dataset/Dimnit/Dimnit (74).png', 'data/Grapevine_Leaves_Image_Dataset/Ala_Idris/Ala_Idris (60).png', 'data/Grapevine_Leaves_Image_Dataset/Ala_Idris/Ala_Idris (32).png', 'data/Grapevine_Leaves_Image_Dataset/Ak/Ak (46).png', 'data/Grapevine_Leaves_Image_Dataset/Dimnit/Dimnit (30).png', 'data/Grapevine_Leaves_Image_Dataset/Nazli/Nazli (59).png', 'data/Grapevine_Leaves_Image_Dataset/Nazli/Nazli (28).png', 'data/Grapevine_Leaves_Image_Dataset/Ala_Idris/Ala_Idris (13).png', 'data/Grapevine_Leaves_Image_Dataset/Dimnit/Dimnit (77).png', 'data/Grapevine_Leaves_Image_Dataset/Dimnit/Dimnit (79).png', 'data/Grapevine_Leaves_Image_Dataset/Nazli/Nazli (77).png', 'data/Grapevine_Leaves_Image_Dataset/Dimnit/Dimnit (27).png', 'data/Grapevine_Leaves_Image_Dataset/Dimnit/Dimnit (55).png', 'data/Grapevine_Leaves_Image_Dataset/Buzgulu/Buzgulu (87).png', 'data/Grapevine_Leaves_Image_Dataset/Buzgulu/Buzgulu (96).png', 'data/Grapevine_Leaves_Image_Dataset/Ak/Ak (57).png', 'data/Grapevine_Leaves_Image_Dataset/Ala_Idris/Ala_Idris (5).png', 'data/Grapevine_Leaves_Image_Dataset/Ak/Ak (77).png', 'data/Grapevine_Leaves_Image_Dataset/Nazli/Nazli (51).png', 'data/Grapevine_Leaves_Image_Dataset/Ak/Ak (96).png', 'data/Grapevine_Leaves_Image_Dataset/Ak/Ak (88).png', 'data/Grapevine_Leaves_Image_Dataset/Buzgulu/Buzgulu (52).png', 'data/Grapevine_Leaves_Image_Dataset/Ak/Ak (4).png', 'data/Grapevine_Leaves_Image_Dataset/Dimnit/Dimnit (15).png', 'data/Grapevine_Leaves_Image_Dataset/Nazli/Nazli (4).png', 'data/Grapevine_Leaves_Image_Dataset/Buzgulu/Buzgulu (65).png', 'data/Grapevine_Leaves_Image_Dataset/Nazli/Nazli (18).png', 'data/Grapevine_Leaves_Image_Dataset/Nazli/Nazli (36).png', 'data/Grapevine_Leaves_Image_Dataset/Nazli/Nazli (100).png', 'data/Grapevine_Leaves_Image_Dataset/Ak/Ak (28).png', 'data/Grapevine_Leaves_Image_Dataset/Ala_Idris/Ala_Idris (66).png', 'data/Grapevine_Leaves_Image_Dataset/Ala_Idris/Ala_Idris (25).png', 'data/Grapevine_Leaves_Image_Dataset/Ala_Idris/Ala_Idris (44).png', 'data/Grapevine_Leaves_Image_Dataset/Ala_Idris/Ala_Idris (43).png', 'data/Grapevine_Leaves_Image_Dataset/Dimnit/Dimnit (34).png', 'data/Grapevine_Leaves_Image_Dataset/Ak/Ak (3).png', 'data/Grapevine_Leaves_Image_Dataset/Ak/Ak (86).png', 'data/Grapevine_Leaves_Image_Dataset/Buzgulu/Buzgulu (15).png', 'data/Grapevine_Leaves_Image_Dataset/Buzgulu/Buzgulu (30).png', 'data/Grapevine_Leaves_Image_Dataset/Ala_Idris/Ala_Idris (93).png', 'data/Grapevine_Leaves_Image_Dataset/Dimnit/Dimnit (11).png', 'data/Grapevine_Leaves_Image_Dataset/Ak/Ak (30).png', 'data/Grapevine_Leaves_Image_Dataset/Ak/Ak (100).png', 'data/Grapevine_Leaves_Image_Dataset/Nazli/Nazli (46).png', 'data/Grapevine_Leaves_Image_Dataset/Dimnit/Dimnit (95).png', 'data/Grapevine_Leaves_Image_Dataset/Nazli/Nazli (38).png', 'data/Grapevine_Leaves_Image_Dataset/Nazli/Nazli (23).png', 'data/Grapevine_Leaves_Image_Dataset/Dimnit/Dimnit (45).png', 'data/Grapevine_Leaves_Image_Dataset/Ak/Ak (9).png', 'data/Grapevine_Leaves_Image_Dataset/Buzgulu/Buzgulu (62).png', 'data/Grapevine_Leaves_Image_Dataset/Dimnit/Dimnit (4).png', 'data/Grapevine_Leaves_Image_Dataset/Ak/Ak (53).png', 'data/Grapevine_Leaves_Image_Dataset/Ala_Idris/Ala_Idris (88).png', 'data/Grapevine_Leaves_Image_Dataset/Ala_Idris/Ala_Idris (31).png', 'data/Grapevine_Leaves_Image_Dataset/Dimnit/Dimnit (49).png', 'data/Grapevine_Leaves_Image_Dataset/Buzgulu/Buzgulu (11).png', 'data/Grapevine_Leaves_Image_Dataset/Buzgulu/Buzgulu (45).png', 'data/Grapevine_Leaves_Image_Dataset/Ala_Idris/Ala_Idris (37).png', 'data/Grapevine_Leaves_Image_Dataset/Nazli/Nazli (41).png', 'data/Grapevine_Leaves_Image_Dataset/Ak/Ak (59).png', 'data/Grapevine_Leaves_Image_Dataset/Nazli/Nazli (91).png', 'data/Grapevine_Leaves_Image_Dataset/Ala_Idris/Ala_Idris (36).png', 'data/Grapevine_Leaves_Image_Dataset/Ak/Ak (19).png', 'data/Grapevine_Leaves_Image_Dataset/Buzgulu/Buzgulu (72).png', 'data/Grapevine_Leaves_Image_Dataset/Buzgulu/Buzgulu (77).png', 'data/Grapevine_Leaves_Image_Dataset/Ala_Idris/Ala_Idris (40).png', 'data/Grapevine_Leaves_Image_Dataset/Ala_Idris/Ala_Idris (53).png', 'data/Grapevine_Leaves_Image_Dataset/Dimnit/Dimnit (80).png', 'data/Grapevine_Leaves_Image_Dataset/Dimnit/Dimnit (29).png', 'data/Grapevine_Leaves_Image_Dataset/Ak/Ak (12).png', 'data/Grapevine_Leaves_Image_Dataset/Nazli/Nazli (90).png', 'data/Grapevine_Leaves_Image_Dataset/Buzgulu/Buzgulu (79).png', 'data/Grapevine_Leaves_Image_Dataset/Dimnit/Dimnit (56).png', 'data/Grapevine_Leaves_Image_Dataset/Buzgulu/Buzgulu (78).png', 'data/Grapevine_Leaves_Image_Dataset/Buzgulu/Buzgulu (4).png', 'data/Grapevine_Leaves_Image_Dataset/Ala_Idris/Ala_Idris (83).png', 'data/Grapevine_Leaves_Image_Dataset/Dimnit/Dimnit (13).png', 'data/Grapevine_Leaves_Image_Dataset/Ala_Idris/Ala_Idris (55).png', 'data/Grapevine_Leaves_Image_Dataset/Ala_Idris/Ala_Idris (81).png', 'data/Grapevine_Leaves_Image_Dataset/Dimnit/Dimnit (88).png', 'data/Grapevine_Leaves_Image_Dataset/Dimnit/Dimnit (17).png', 'data/Grapevine_Leaves_Image_Dataset/Nazli/Nazli (31).png', 'data/Grapevine_Leaves_Image_Dataset/Buzgulu/Buzgulu (99).png', 'data/Grapevine_Leaves_Image_Dataset/Dimnit/Dimnit (65).png', 'data/Grapevine_Leaves_Image_Dataset/Ak/Ak (23).png', 'data/Grapevine_Leaves_Image_Dataset/Dimnit/Dimnit (46).png', 'data/Grapevine_Leaves_Image_Dataset/Buzgulu/Buzgulu (46).png', 'data/Grapevine_Leaves_Image_Dataset/Buzgulu/Buzgulu (27).png', 'data/Grapevine_Leaves_Image_Dataset/Dimnit/Dimnit (50).png', 'data/Grapevine_Leaves_Image_Dataset/Ala_Idris/Ala_Idris (52).png', 'data/Grapevine_Leaves_Image_Dataset/Buzgulu/Buzgulu (82).png', 'data/Grapevine_Leaves_Image_Dataset/Ala_Idris/Ala_Idris (76).png', 'data/Grapevine_Leaves_Image_Dataset/Ala_Idris/Ala_Idris (2).png', 'data/Grapevine_Leaves_Image_Dataset/Buzgulu/Buzgulu (93).png', 'data/Grapevine_Leaves_Image_Dataset/Ak/Ak (44).png', 'data/Grapevine_Leaves_Image_Dataset/Buzgulu/Buzgulu (60).png', 'data/Grapevine_Leaves_Image_Dataset/Dimnit/Dimnit (85).png', 'data/Grapevine_Leaves_Image_Dataset/Nazli/Nazli (30).png', 'data/Grapevine_Leaves_Image_Dataset/Dimnit/Dimnit (53).png', 'data/Grapevine_Leaves_Image_Dataset/Ak/Ak (93).png', 'data/Grapevine_Leaves_Image_Dataset/Buzgulu/Buzgulu (85).png', 'data/Grapevine_Leaves_Image_Dataset/Ak/Ak (58).png', 'data/Grapevine_Leaves_Image_Dataset/Nazli/Nazli (3).png', 'data/Grapevine_Leaves_Image_Dataset/Nazli/Nazli (54).png', 'data/Grapevine_Leaves_Image_Dataset/Ak/Ak (25).png', 'data/Grapevine_Leaves_Image_Dataset/Buzgulu/Buzgulu (10).png', 'data/Grapevine_Leaves_Image_Dataset/Ak/Ak (55).png', 'data/Grapevine_Leaves_Image_Dataset/Ak/Ak (49).png', 'data/Grapevine_Leaves_Image_Dataset/Nazli/Nazli (12).png', 'data/Grapevine_Leaves_Image_Dataset/Ala_Idris/Ala_Idris (57).png', 'data/Grapevine_Leaves_Image_Dataset/Nazli/Nazli (68).png', 'data/Grapevine_Leaves_Image_Dataset/Nazli/Nazli (67).png', 'data/Grapevine_Leaves_Image_Dataset/Buzgulu/Buzgulu (53).png', 'data/Grapevine_Leaves_Image_Dataset/Ala_Idris/Ala_Idris (8).png', 'data/Grapevine_Leaves_Image_Dataset/Dimnit/Dimnit (23).png', 'data/Grapevine_Leaves_Image_Dataset/Nazli/Nazli (14).png', 'data/Grapevine_Leaves_Image_Dataset/Dimnit/Dimnit (1).png', 'data/Grapevine_Leaves_Image_Dataset/Dimnit/Dimnit (54).png', 'data/Grapevine_Leaves_Image_Dataset/Ala_Idris/Ala_Idris (100).png', 'data/Grapevine_Leaves_Image_Dataset/Dimnit/Dimnit (3).png', 'data/Grapevine_Leaves_Image_Dataset/Ala_Idris/Ala_Idris (35).png', 'data/Grapevine_Leaves_Image_Dataset/Ala_Idris/Ala_Idris (21).png', 'data/Grapevine_Leaves_Image_Dataset/Dimnit/Dimnit (48).png', 'data/Grapevine_Leaves_Image_Dataset/Buzgulu/Buzgulu (42).png', 'data/Grapevine_Leaves_Image_Dataset/Nazli/Nazli (73).png', 'data/Grapevine_Leaves_Image_Dataset/Nazli/Nazli (75).png', 'data/Grapevine_Leaves_Image_Dataset/Dimnit/Dimnit (32).png', 'data/Grapevine_Leaves_Image_Dataset/Buzgulu/Buzgulu (80).png', 'data/Grapevine_Leaves_Image_Dataset/Nazli/Nazli (19).png', 'data/Grapevine_Leaves_Image_Dataset/Ala_Idris/Ala_Idris (42).png', 'data/Grapevine_Leaves_Image_Dataset/Buzgulu/Buzgulu (16).png', 'data/Grapevine_Leaves_Image_Dataset/Buzgulu/Buzgulu (13).png', 'data/Grapevine_Leaves_Image_Dataset/Ak/Ak (41).png', 'data/Grapevine_Leaves_Image_Dataset/Dimnit/Dimnit (20).png', 'data/Grapevine_Leaves_Image_Dataset/Buzgulu/Buzgulu (38).png', 'data/Grapevine_Leaves_Image_Dataset/Buzgulu/Buzgulu (20).png', 'data/Grapevine_Leaves_Image_Dataset/Buzgulu/Buzgulu (94).png', 'data/Grapevine_Leaves_Image_Dataset/Nazli/Nazli (96).png', 'data/Grapevine_Leaves_Image_Dataset/Nazli/Nazli (33).png', 'data/Grapevine_Leaves_Image_Dataset/Nazli/Nazli (70).png', 'data/Grapevine_Leaves_Image_Dataset/Buzgulu/Buzgulu (34).png', 'data/Grapevine_Leaves_Image_Dataset/Buzgulu/Buzgulu (21).png', 'data/Grapevine_Leaves_Image_Dataset/Ak/Ak (14).png', 'data/Grapevine_Leaves_Image_Dataset/Dimnit/Dimnit (66).png', 'data/Grapevine_Leaves_Image_Dataset/Nazli/Nazli (71).png', 'data/Grapevine_Leaves_Image_Dataset/Ala_Idris/Ala_Idris (79).png', 'data/Grapevine_Leaves_Image_Dataset/Buzgulu/Buzgulu (95).png', 'data/Grapevine_Leaves_Image_Dataset/Nazli/Nazli (82).png', 'data/Grapevine_Leaves_Image_Dataset/Buzgulu/Buzgulu (8).png', 'data/Grapevine_Leaves_Image_Dataset/Buzgulu/Buzgulu (31).png', 'data/Grapevine_Leaves_Image_Dataset/Ala_Idris/Ala_Idris (82).png', 'data/Grapevine_Leaves_Image_Dataset/Ak/Ak (32).png', 'data/Grapevine_Leaves_Image_Dataset/Nazli/Nazli (16).png', 'data/Grapevine_Leaves_Image_Dataset/Buzgulu/Buzgulu (6).png', 'data/Grapevine_Leaves_Image_Dataset/Dimnit/Dimnit (47).png', 'data/Grapevine_Leaves_Image_Dataset/Ak/Ak (40).png', 'data/Grapevine_Leaves_Image_Dataset/Buzgulu/Buzgulu (100).png', 'data/Grapevine_Leaves_Image_Dataset/Buzgulu/Buzgulu (68).png', 'data/Grapevine_Leaves_Image_Dataset/Ala_Idris/Ala_Idris (4).png', 'data/Grapevine_Leaves_Image_Dataset/Nazli/Nazli (83).png', 'data/Grapevine_Leaves_Image_Dataset/Dimnit/Dimnit (99).png', 'data/Grapevine_Leaves_Image_Dataset/Buzgulu/Buzgulu (92).png', 'data/Grapevine_Leaves_Image_Dataset/Ak/Ak (7).png', 'data/Grapevine_Leaves_Image_Dataset/Nazli/Nazli (35).png', 'data/Grapevine_Leaves_Image_Dataset/Buzgulu/Buzgulu (14).png', 'data/Grapevine_Leaves_Image_Dataset/Dimnit/Dimnit (71).png', 'data/Grapevine_Leaves_Image_Dataset/Nazli/Nazli (25).png', 'data/Grapevine_Leaves_Image_Dataset/Nazli/Nazli (80).png', 'data/Grapevine_Leaves_Image_Dataset/Dimnit/Dimnit (39).png', 'data/Grapevine_Leaves_Image_Dataset/Ak/Ak (36).png', 'data/Grapevine_Leaves_Image_Dataset/Nazli/Nazli (52).png', 'data/Grapevine_Leaves_Image_Dataset/Ak/Ak (33).png', 'data/Grapevine_Leaves_Image_Dataset/Ala_Idris/Ala_Idris (24).png', 'data/Grapevine_Leaves_Image_Dataset/Nazli/Nazli (94).png', 'data/Grapevine_Leaves_Image_Dataset/Ala_Idris/Ala_Idris (15).png', 'data/Grapevine_Leaves_Image_Dataset/Ala_Idris/Ala_Idris (91).png', 'data/Grapevine_Leaves_Image_Dataset/Ak/Ak (27).png', 'data/Grapevine_Leaves_Image_Dataset/Ak/Ak (35).png', 'data/Grapevine_Leaves_Image_Dataset/Buzgulu/Buzgulu (51).png', 'data/Grapevine_Leaves_Image_Dataset/Buzgulu/Buzgulu (40).png', 'data/Grapevine_Leaves_Image_Dataset/Ala_Idris/Ala_Idris (47).png', 'data/Grapevine_Leaves_Image_Dataset/Dimnit/Dimnit (2).png', 'data/Grapevine_Leaves_Image_Dataset/Nazli/Nazli (50).png', 'data/Grapevine_Leaves_Image_Dataset/Ak/Ak (48).png', 'data/Grapevine_Leaves_Image_Dataset/Dimnit/Dimnit (9).png', 'data/Grapevine_Leaves_Image_Dataset/Dimnit/Dimnit (7).png', 'data/Grapevine_Leaves_Image_Dataset/Nazli/Nazli (74).png', 'data/Grapevine_Leaves_Image_Dataset/Buzgulu/Buzgulu (97).png', 'data/Grapevine_Leaves_Image_Dataset/Nazli/Nazli (10).png', 'data/Grapevine_Leaves_Image_Dataset/Buzgulu/Buzgulu (67).png', 'data/Grapevine_Leaves_Image_Dataset/Ala_Idris/Ala_Idris (56).png', 'data/Grapevine_Leaves_Image_Dataset/Buzgulu/Buzgulu (81).png', 'data/Grapevine_Leaves_Image_Dataset/Nazli/Nazli (62).png', 'data/Grapevine_Leaves_Image_Dataset/Ak/Ak (83).png', 'data/Grapevine_Leaves_Image_Dataset/Dimnit/Dimnit (94).png', 'data/Grapevine_Leaves_Image_Dataset/Nazli/Nazli (22).png', 'data/Grapevine_Leaves_Image_Dataset/Nazli/Nazli (58).png', 'data/Grapevine_Leaves_Image_Dataset/Dimnit/Dimnit (92).png', 'data/Grapevine_Leaves_Image_Dataset/Dimnit/Dimnit (84).png', 'data/Grapevine_Leaves_Image_Dataset/Nazli/Nazli (27).png', 'data/Grapevine_Leaves_Image_Dataset/Ak/Ak (79).png', 'data/Grapevine_Leaves_Image_Dataset/Ak/Ak (5).png', 'data/Grapevine_Leaves_Image_Dataset/Ak/Ak (84).png', 'data/Grapevine_Leaves_Image_Dataset/Ala_Idris/Ala_Idris (33).png', 'data/Grapevine_Leaves_Image_Dataset/Ala_Idris/Ala_Idris (45).png', 'data/Grapevine_Leaves_Image_Dataset/Ala_Idris/Ala_Idris (61).png', 'data/Grapevine_Leaves_Image_Dataset/Ala_Idris/Ala_Idris (70).png', 'data/Grapevine_Leaves_Image_Dataset/Dimnit/Dimnit (78).png', 'data/Grapevine_Leaves_Image_Dataset/Ala_Idris/Ala_Idris (72).png', 'data/Grapevine_Leaves_Image_Dataset/Buzgulu/Buzgulu (84).png', 'data/Grapevine_Leaves_Image_Dataset/Buzgulu/Buzgulu (17).png', 'data/Grapevine_Leaves_Image_Dataset/Ak/Ak (87).png', 'data/Grapevine_Leaves_Image_Dataset/Buzgulu/Buzgulu (63).png', 'data/Grapevine_Leaves_Image_Dataset/Ala_Idris/Ala_Idris (64).png', 'data/Grapevine_Leaves_Image_Dataset/Nazli/Nazli (78).png', 'data/Grapevine_Leaves_Image_Dataset/Buzgulu/Buzgulu (28).png', 'data/Grapevine_Leaves_Image_Dataset/Ak/Ak (69).png', 'data/Grapevine_Leaves_Image_Dataset/Dimnit/Dimnit (26).png', 'data/Grapevine_Leaves_Image_Dataset/Ak/Ak (11).png', 'data/Grapevine_Leaves_Image_Dataset/Buzgulu/Buzgulu (33).png', 'data/Grapevine_Leaves_Image_Dataset/Ala_Idris/Ala_Idris (50).png', 'data/Grapevine_Leaves_Image_Dataset/Nazli/Nazli (6).png', 'data/Grapevine_Leaves_Image_Dataset/Ala_Idris/Ala_Idris (54).png', 'data/Grapevine_Leaves_Image_Dataset/Ala_Idris/Ala_Idris (63).png', 'data/Grapevine_Leaves_Image_Dataset/Buzgulu/Buzgulu (83).png', 'data/Grapevine_Leaves_Image_Dataset/Ak/Ak (16).png', 'data/Grapevine_Leaves_Image_Dataset/Buzgulu/Buzgulu (26).png', 'data/Grapevine_Leaves_Image_Dataset/Ak/Ak (92).png', 'data/Grapevine_Leaves_Image_Dataset/Nazli/Nazli (99).png', 'data/Grapevine_Leaves_Image_Dataset/Dimnit/Dimnit (44).png', 'data/Grapevine_Leaves_Image_Dataset/Dimnit/Dimnit (36).png', 'data/Grapevine_Leaves_Image_Dataset/Buzgulu/Buzgulu (49).png', 'data/Grapevine_Leaves_Image_Dataset/Buzgulu/Buzgulu (71).png', 'data/Grapevine_Leaves_Image_Dataset/Ak/Ak (94).png', 'data/Grapevine_Leaves_Image_Dataset/Dimnit/Dimnit (40).png', 'data/Grapevine_Leaves_Image_Dataset/Nazli/Nazli (81).png', 'data/Grapevine_Leaves_Image_Dataset/Ak/Ak (47).png', 'data/Grapevine_Leaves_Image_Dataset/Buzgulu/Buzgulu (24).png', 'data/Grapevine_Leaves_Image_Dataset/Ala_Idris/Ala_Idris (22).png', 'data/Grapevine_Leaves_Image_Dataset/Nazli/Nazli (69).png', 'data/Grapevine_Leaves_Image_Dataset/Buzgulu/Buzgulu (9).png', 'data/Grapevine_Leaves_Image_Dataset/Dimnit/Dimnit (87).png', 'data/Grapevine_Leaves_Image_Dataset/Ala_Idris/Ala_Idris (99).png', 'data/Grapevine_Leaves_Image_Dataset/Nazli/Nazli (98).png', 'data/Grapevine_Leaves_Image_Dataset/Nazli/Nazli (56).png', 'data/Grapevine_Leaves_Image_Dataset/Ala_Idris/Ala_Idris (75).png', 'data/Grapevine_Leaves_Image_Dataset/Buzgulu/Buzgulu (5).png', 'data/Grapevine_Leaves_Image_Dataset/Nazli/Nazli (64).png', 'data/Grapevine_Leaves_Image_Dataset/Ak/Ak (1).png', 'data/Grapevine_Leaves_Image_Dataset/Nazli/Nazli (72).png', 'data/Grapevine_Leaves_Image_Dataset/Ala_Idris/Ala_Idris (84).png', 'data/Grapevine_Leaves_Image_Dataset/Nazli/Nazli (1).png', 'data/Grapevine_Leaves_Image_Dataset/Ala_Idris/Ala_Idris (69).png', 'data/Grapevine_Leaves_Image_Dataset/Dimnit/Dimnit (59).png', 'data/Grapevine_Leaves_Image_Dataset/Buzgulu/Buzgulu (64).png', 'data/Grapevine_Leaves_Image_Dataset/Ala_Idris/Ala_Idris (95).png', 'data/Grapevine_Leaves_Image_Dataset/Dimnit/Dimnit (6).png', 'data/Grapevine_Leaves_Image_Dataset/Buzgulu/Buzgulu (19).png', 'data/Grapevine_Leaves_Image_Dataset/Ala_Idris/Ala_Idris (85).png', 'data/Grapevine_Leaves_Image_Dataset/Ak/Ak (43).png', 'data/Grapevine_Leaves_Image_Dataset/Dimnit/Dimnit (72).png', 'data/Grapevine_Leaves_Image_Dataset/Ak/Ak (71).png', 'data/Grapevine_Leaves_Image_Dataset/Buzgulu/Buzgulu (66).png', 'data/Grapevine_Leaves_Image_Dataset/Dimnit/Dimnit (25).png', 'data/Grapevine_Leaves_Image_Dataset/Ala_Idris/Ala_Idris (67).png', 'data/Grapevine_Leaves_Image_Dataset/Buzgulu/Buzgulu (59).png', 'data/Grapevine_Leaves_Image_Dataset/Nazli/Nazli (88).png', 'data/Grapevine_Leaves_Image_Dataset/Dimnit/Dimnit (57).png', 'data/Grapevine_Leaves_Image_Dataset/Dimnit/Dimnit (37).png', 'data/Grapevine_Leaves_Image_Dataset/Buzgulu/Buzgulu (36).png', 'data/Grapevine_Leaves_Image_Dataset/Ak/Ak (64).png', 'data/Grapevine_Leaves_Image_Dataset/Ala_Idris/Ala_Idris (49).png', 'data/Grapevine_Leaves_Image_Dataset/Dimnit/Dimnit (82).png', 'data/Grapevine_Leaves_Image_Dataset/Ak/Ak (31).png', 'data/Grapevine_Leaves_Image_Dataset/Ak/Ak (73).png', 'data/Grapevine_Leaves_Image_Dataset/Nazli/Nazli (55).png', 'data/Grapevine_Leaves_Image_Dataset/Ala_Idris/Ala_Idris (87).png', 'data/Grapevine_Leaves_Image_Dataset/Dimnit/Dimnit (33).png', 'data/Grapevine_Leaves_Image_Dataset/Ak/Ak (42).png', 'data/Grapevine_Leaves_Image_Dataset/Nazli/Nazli (86).png', 'data/Grapevine_Leaves_Image_Dataset/Ak/Ak (78).png', 'data/Grapevine_Leaves_Image_Dataset/Ak/Ak (38).png', 'data/Grapevine_Leaves_Image_Dataset/Ak/Ak (67).png', 'data/Grapevine_Leaves_Image_Dataset/Nazli/Nazli (17).png', 'data/Grapevine_Leaves_Image_Dataset/Dimnit/Dimnit (100).png', 'data/Grapevine_Leaves_Image_Dataset/Ala_Idris/Ala_Idris (18).png', 'data/Grapevine_Leaves_Image_Dataset/Ak/Ak (62).png', 'data/Grapevine_Leaves_Image_Dataset/Ala_Idris/Ala_Idris (19).png', 'data/Grapevine_Leaves_Image_Dataset/Ak/Ak (18).png', 'data/Grapevine_Leaves_Image_Dataset/Buzgulu/Buzgulu (41).png', 'data/Grapevine_Leaves_Image_Dataset/Dimnit/Dimnit (52).png', 'data/Grapevine_Leaves_Image_Dataset/Ala_Idris/Ala_Idris (10).png', 'data/Grapevine_Leaves_Image_Dataset/Buzgulu/Buzgulu (86).png', 'data/Grapevine_Leaves_Image_Dataset/Ak/Ak (74).png', 'data/Grapevine_Leaves_Image_Dataset/Dimnit/Dimnit (24).png', 'data/Grapevine_Leaves_Image_Dataset/Nazli/Nazli (5).png', 'data/Grapevine_Leaves_Image_Dataset/Ak/Ak (76).png', 'data/Grapevine_Leaves_Image_Dataset/Nazli/Nazli (45).png', 'data/Grapevine_Leaves_Image_Dataset/Ala_Idris/Ala_Idris (28).png', 'data/Grapevine_Leaves_Image_Dataset/Ala_Idris/Ala_Idris (41).png', 'data/Grapevine_Leaves_Image_Dataset/Nazli/Nazli (21).png', 'data/Grapevine_Leaves_Image_Dataset/Dimnit/Dimnit (86).png', 'data/Grapevine_Leaves_Image_Dataset/Dimnit/Dimnit (64).png', 'data/Grapevine_Leaves_Image_Dataset/Buzgulu/Buzgulu (18).png', 'data/Grapevine_Leaves_Image_Dataset/Buzgulu/Buzgulu (69).png', 'data/Grapevine_Leaves_Image_Dataset/Nazli/Nazli (24).png', 'data/Grapevine_Leaves_Image_Dataset/Buzgulu/Buzgulu (12).png', 'data/Grapevine_Leaves_Image_Dataset/Ak/Ak (56).png', 'data/Grapevine_Leaves_Image_Dataset/Nazli/Nazli (39).png', 'data/Grapevine_Leaves_Image_Dataset/Ala_Idris/Ala_Idris (65).png', 'data/Grapevine_Leaves_Image_Dataset/Nazli/Nazli (79).png', 'data/Grapevine_Leaves_Image_Dataset/Nazli/Nazli (65).png', 'data/Grapevine_Leaves_Image_Dataset/Ak/Ak (17).png', 'data/Grapevine_Leaves_Image_Dataset/Ak/Ak (97).png', 'data/Grapevine_Leaves_Image_Dataset/Buzgulu/Buzgulu (55).png', 'data/Grapevine_Leaves_Image_Dataset/Ala_Idris/Ala_Idris (51).png', 'data/Grapevine_Leaves_Image_Dataset/Ala_Idris/Ala_Idris (3).png', 'data/Grapevine_Leaves_Image_Dataset/Nazli/Nazli (2).png', 'data/Grapevine_Leaves_Image_Dataset/Dimnit/Dimnit (73).png', 'data/Grapevine_Leaves_Image_Dataset/Dimnit/Dimnit (61).png', 'data/Grapevine_Leaves_Image_Dataset/Nazli/Nazli (92).png', 'data/Grapevine_Leaves_Image_Dataset/Ala_Idris/Ala_Idris (17).png', 'data/Grapevine_Leaves_Image_Dataset/Nazli/Nazli (37).png', 'data/Grapevine_Leaves_Image_Dataset/Ak/Ak (39).png', 'data/Grapevine_Leaves_Image_Dataset/Ak/Ak (34).png', 'data/Grapevine_Leaves_Image_Dataset/Ala_Idris/Ala_Idris (48).png', 'data/Grapevine_Leaves_Image_Dataset/Buzgulu/Buzgulu (98).png', 'data/Grapevine_Leaves_Image_Dataset/Ak/Ak (85).png', 'data/Grapevine_Leaves_Image_Dataset/Ala_Idris/Ala_Idris (30).png', 'data/Grapevine_Leaves_Image_Dataset/Ak/Ak (2).png', 'data/Grapevine_Leaves_Image_Dataset/Ak/Ak (45).png', 'data/Grapevine_Leaves_Image_Dataset/Buzgulu/Buzgulu (57).png', 'data/Grapevine_Leaves_Image_Dataset/Ala_Idris/Ala_Idris (38).png', 'data/Grapevine_Leaves_Image_Dataset/Dimnit/Dimnit (62).png', 'data/Grapevine_Leaves_Image_Dataset/Ak/Ak (60).png', 'data/Grapevine_Leaves_Image_Dataset/Buzgulu/Buzgulu (3).png', 'data/Grapevine_Leaves_Image_Dataset/Ak/Ak (82).png', 'data/Grapevine_Leaves_Image_Dataset/Buzgulu/Buzgulu (89).png', 'data/Grapevine_Leaves_Image_Dataset/Ak/Ak (89).png', 'data/Grapevine_Leaves_Image_Dataset/Dimnit/Dimnit (51).png', 'data/Grapevine_Leaves_Image_Dataset/Ala_Idris/Ala_Idris (90).png', 'data/Grapevine_Leaves_Image_Dataset/Dimnit/Dimnit (35).png', 'data/Grapevine_Leaves_Image_Dataset/Ala_Idris/Ala_Idris (29).png', 'data/Grapevine_Leaves_Image_Dataset/Ala_Idris/Ala_Idris (11).png', 'data/Grapevine_Leaves_Image_Dataset/Ak/Ak (54).png', 'data/Grapevine_Leaves_Image_Dataset/Dimnit/Dimnit (31).png', 'data/Grapevine_Leaves_Image_Dataset/Dimnit/Dimnit (91).png', 'data/Grapevine_Leaves_Image_Dataset/Ala_Idris/Ala_Idris (71).png', 'data/Grapevine_Leaves_Image_Dataset/Buzgulu/Buzgulu (61).png', 'data/Grapevine_Leaves_Image_Dataset/Ala_Idris/Ala_Idris (6).png', 'data/Grapevine_Leaves_Image_Dataset/Buzgulu/Buzgulu (35).png', 'data/Grapevine_Leaves_Image_Dataset/Nazli/Nazli (8).png', 'data/Grapevine_Leaves_Image_Dataset/Ala_Idris/Ala_Idris (97).png', 'data/Grapevine_Leaves_Image_Dataset/Nazli/Nazli (32).png', 'data/Grapevine_Leaves_Image_Dataset/Ak/Ak (72).png', 'data/Grapevine_Leaves_Image_Dataset/Nazli/Nazli (20).png', 'data/Grapevine_Leaves_Image_Dataset/Ala_Idris/Ala_Idris (23).png', 'data/Grapevine_Leaves_Image_Dataset/Ala_Idris/Ala_Idris (94).png', 'data/Grapevine_Leaves_Image_Dataset/Ala_Idris/Ala_Idris (62).png', 'data/Grapevine_Leaves_Image_Dataset/Buzgulu/Buzgulu (37).png', 'data/Grapevine_Leaves_Image_Dataset/Dimnit/Dimnit (76).png', 'data/Grapevine_Leaves_Image_Dataset/Ak/Ak (15).png', 'data/Grapevine_Leaves_Image_Dataset/Nazli/Nazli (66).png', 'data/Grapevine_Leaves_Image_Dataset/Buzgulu/Buzgulu (54).png', 'data/Grapevine_Leaves_Image_Dataset/Buzgulu/Buzgulu (90).png', 'data/Grapevine_Leaves_Image_Dataset/Dimnit/Dimnit (83).png', 'data/Grapevine_Leaves_Image_Dataset/Ak/Ak (24).png', 'data/Grapevine_Leaves_Image_Dataset/Dimnit/Dimnit (5).png', 'data/Grapevine_Leaves_Image_Dataset/Ak/Ak (95).png', 'data/Grapevine_Leaves_Image_Dataset/Dimnit/Dimnit (98).png', 'data/Grapevine_Leaves_Image_Dataset/Ala_Idris/Ala_Idris (77).png', 'data/Grapevine_Leaves_Image_Dataset/Buzgulu/Buzgulu (2).png', 'data/Grapevine_Leaves_Image_Dataset/Ak/Ak (21).png', 'data/Grapevine_Leaves_Image_Dataset/Nazli/Nazli (42).png']\n"
          ]
        }
      ]
    },
    {
      "cell_type": "code",
      "execution_count": 8,
      "id": "946e3105",
      "metadata": {
        "id": "946e3105"
      },
      "outputs": [],
      "source": [
        "img_width = 300\n",
        "img_height = 300\n",
        "\n",
        "EPOCHS = 20\n",
        "BATCH_SIZE = 32\n",
        "\n",
        "IMAGE_SHAPE = (img_width, img_height)"
      ]
    },
    {
      "cell_type": "code",
      "execution_count": 9,
      "id": "4c90edd7",
      "metadata": {
        "id": "4c90edd7"
      },
      "outputs": [],
      "source": [
        "datagen = ImageDataGenerator(\n",
        "    rescale=1/255.,\n",
        "    validation_split=0.1\n",
        ")"
      ]
    },
    {
      "cell_type": "code",
      "source": [
        "train_gen = datagen.flow_from_dataframe(\n",
        "    pd.DataFrame({'image_path': X_train, 'label': y_train}),\n",
        "    x_col='image_path',\n",
        "    y_col='label',\n",
        "    target_size=IMAGE_SHAPE,\n",
        "    batch_size=BATCH_SIZE,\n",
        "    subset='training',\n",
        "    class_mode='categorical',\n",
        "    shuffle=True\n",
        ")\n",
        "\n",
        "validation_gen = datagen.flow_from_dataframe(\n",
        "    pd.DataFrame({'image_path': X_train, 'label': y_train}),\n",
        "    x_col='image_path',\n",
        "    y_col='label',\n",
        "    target_size=IMAGE_SHAPE,\n",
        "    batch_size=BATCH_SIZE,\n",
        "    class_mode='categorical',\n",
        "    subset='validation',\n",
        "    shuffle=True\n",
        ")\n",
        "\n",
        "test_gen = datagen.flow_from_dataframe(\n",
        "    pd.DataFrame({'image_path': X_test, 'label': y_test}),\n",
        "    x_col='image_path',\n",
        "    y_col='label',\n",
        "    target_size=IMAGE_SHAPE,\n",
        "    batch_size=1,\n",
        "    class_mode=None,\n",
        "    shuffle=False\n",
        ")"
      ],
      "metadata": {
        "colab": {
          "base_uri": "https://localhost:8080/"
        },
        "id": "61D9JhDe1Q0G",
        "outputId": "7f117d98-4aa0-459c-9bef-d1d5a9b13c39"
      },
      "id": "61D9JhDe1Q0G",
      "execution_count": 10,
      "outputs": [
        {
          "output_type": "stream",
          "name": "stdout",
          "text": [
            "Found 360 validated image filenames belonging to 5 classes.\n",
            "Found 40 validated image filenames belonging to 5 classes.\n",
            "Found 100 validated image filenames.\n"
          ]
        }
      ]
    },
    {
      "cell_type": "code",
      "source": [
        "CLASSES = set(y_train)"
      ],
      "metadata": {
        "id": "96uocc5H3W79"
      },
      "id": "96uocc5H3W79",
      "execution_count": 11,
      "outputs": []
    },
    {
      "cell_type": "markdown",
      "id": "38162a8a",
      "metadata": {
        "id": "38162a8a"
      },
      "source": [
        "# BASIC SEQUENTIAL MODEL"
      ]
    },
    {
      "cell_type": "code",
      "execution_count": 12,
      "id": "86bdfcde",
      "metadata": {
        "id": "86bdfcde"
      },
      "outputs": [],
      "source": [
        "model = Sequential()\n",
        "\n",
        "# Add a 2D convolutional layer with 32 filters of size 3x3 and ReLU activation function\n",
        "model.add(Conv2D(32, (3, 3), activation='relu', input_shape=(img_width, img_height, 3)))\n",
        "\n",
        "# Add a MaxPooling layer to reduce the data size\n",
        "model.add(MaxPooling2D((2, 2)))\n",
        "\n",
        "# Add another 2D convolutional layer with 64 filters of size 3x3 and ReLU activation\n",
        "model.add(Conv2D(64, (3, 3), activation='relu'))\n",
        "\n",
        "# Add another MaxPooling layer\n",
        "model.add(MaxPooling2D((2, 2)))\n",
        "\n",
        "# Add a 2D convolutional layer with 128 filters of size 3x3 and ReLU activation\n",
        "model.add(Conv2D(128, (3, 3), activation='relu'))\n",
        "\n",
        "# Add another MaxPooling layer\n",
        "model.add(MaxPooling2D((2, 2)))\n",
        "\n",
        "# Flatten the data into a one-dimensional array\n",
        "model.add(Flatten())\n",
        "\n",
        "# Add a dense layer with 512 units and ReLU activation\n",
        "model.add(Dense(512, activation='relu'))\n",
        "\n",
        "# Add an output layer with one neuron and a sigmoid activation function (binary classification)\n",
        "model.add(Dense(len(CLASSES), activation='softmax'))\n",
        "\n",
        "# Compile the model\n",
        "model.compile(loss='categorical_crossentropy',\n",
        "              optimizer=Adam(learning_rate=0.0001),\n",
        "              metrics=['accuracy'])\n"
      ]
    },
    {
      "cell_type": "code",
      "execution_count": 13,
      "id": "b27c9559",
      "metadata": {
        "id": "b27c9559",
        "outputId": "b14392c0-fbcb-417d-aa81-f7bfcfa3b279",
        "colab": {
          "base_uri": "https://localhost:8080/"
        }
      },
      "outputs": [
        {
          "output_type": "stream",
          "name": "stdout",
          "text": [
            "Epoch 1/20\n",
            "12/12 [==============================] - 17s 339ms/step - loss: 2.1375 - accuracy: 0.1861 - val_loss: 1.6941 - val_accuracy: 0.2000\n",
            "Epoch 2/20\n",
            "12/12 [==============================] - 3s 262ms/step - loss: 1.6256 - accuracy: 0.2389 - val_loss: 1.5866 - val_accuracy: 0.2500\n",
            "Epoch 3/20\n",
            "12/12 [==============================] - 3s 271ms/step - loss: 1.5855 - accuracy: 0.2500 - val_loss: 1.5833 - val_accuracy: 0.3250\n",
            "Epoch 4/20\n",
            "12/12 [==============================] - 3s 258ms/step - loss: 1.5436 - accuracy: 0.4083 - val_loss: 1.5597 - val_accuracy: 0.3000\n",
            "Epoch 5/20\n",
            "12/12 [==============================] - 3s 262ms/step - loss: 1.4631 - accuracy: 0.4778 - val_loss: 1.5231 - val_accuracy: 0.3000\n",
            "Epoch 6/20\n",
            "12/12 [==============================] - 3s 266ms/step - loss: 1.3656 - accuracy: 0.5083 - val_loss: 1.4629 - val_accuracy: 0.3500\n",
            "Epoch 7/20\n",
            "12/12 [==============================] - 3s 260ms/step - loss: 1.2482 - accuracy: 0.5583 - val_loss: 1.4756 - val_accuracy: 0.2250\n",
            "Epoch 8/20\n",
            "12/12 [==============================] - 4s 332ms/step - loss: 1.1224 - accuracy: 0.6083 - val_loss: 1.4081 - val_accuracy: 0.3000\n",
            "Epoch 9/20\n",
            "12/12 [==============================] - 4s 317ms/step - loss: 0.9656 - accuracy: 0.6833 - val_loss: 1.3534 - val_accuracy: 0.5250\n",
            "Epoch 10/20\n",
            "12/12 [==============================] - 3s 272ms/step - loss: 0.7985 - accuracy: 0.7500 - val_loss: 1.5207 - val_accuracy: 0.4000\n",
            "Epoch 11/20\n",
            "12/12 [==============================] - 3s 258ms/step - loss: 0.6707 - accuracy: 0.8278 - val_loss: 1.5712 - val_accuracy: 0.3750\n",
            "Epoch 12/20\n",
            "12/12 [==============================] - 4s 315ms/step - loss: 0.5167 - accuracy: 0.8667 - val_loss: 1.4461 - val_accuracy: 0.4250\n",
            "Epoch 13/20\n",
            "12/12 [==============================] - 3s 256ms/step - loss: 0.4150 - accuracy: 0.8889 - val_loss: 1.4490 - val_accuracy: 0.5000\n",
            "Epoch 14/20\n",
            "12/12 [==============================] - 3s 258ms/step - loss: 0.3333 - accuracy: 0.9333 - val_loss: 1.5391 - val_accuracy: 0.4750\n",
            "Epoch 15/20\n",
            "12/12 [==============================] - 3s 278ms/step - loss: 0.2641 - accuracy: 0.9306 - val_loss: 1.9638 - val_accuracy: 0.2500\n",
            "Epoch 16/20\n",
            "12/12 [==============================] - 4s 320ms/step - loss: 0.2152 - accuracy: 0.9694 - val_loss: 1.6716 - val_accuracy: 0.4250\n",
            "Epoch 17/20\n",
            "12/12 [==============================] - 3s 256ms/step - loss: 0.1609 - accuracy: 0.9722 - val_loss: 1.6429 - val_accuracy: 0.4500\n",
            "Epoch 18/20\n",
            "12/12 [==============================] - 3s 260ms/step - loss: 0.1142 - accuracy: 0.9861 - val_loss: 1.7965 - val_accuracy: 0.3750\n",
            "Epoch 19/20\n",
            "12/12 [==============================] - 3s 254ms/step - loss: 0.0863 - accuracy: 1.0000 - val_loss: 1.7991 - val_accuracy: 0.4250\n",
            "Epoch 20/20\n",
            "12/12 [==============================] - 3s 260ms/step - loss: 0.0658 - accuracy: 1.0000 - val_loss: 1.8794 - val_accuracy: 0.4500\n"
          ]
        }
      ],
      "source": [
        "history = model.fit(\n",
        "    train_gen,\n",
        "    steps_per_epoch=len(train_gen),\n",
        "    epochs=EPOCHS,\n",
        "    validation_data=validation_gen,\n",
        "    validation_steps=len(validation_gen)\n",
        ")\n",
        "\n",
        "# STEP_SIZE_TRAIN=train_gen.n//train_gen.batch_size\n",
        "# STEP_SIZE_VALID=validation_gen.n//validation_gen.batch_size\n",
        "\n",
        "# history = model.fit_generator(generator=train_gen,\n",
        "#                     steps_per_epoch=STEP_SIZE_TRAIN,\n",
        "#                     validation_data=validation_gen,\n",
        "#                     validation_steps=STEP_SIZE_VALID,\n",
        "#                     epochs=EPOCHS\n",
        "# )"
      ]
    },
    {
      "cell_type": "code",
      "execution_count": 14,
      "id": "7dc163f1",
      "metadata": {
        "id": "7dc163f1"
      },
      "outputs": [],
      "source": [
        "model.save('basic_model.keras')"
      ]
    },
    {
      "cell_type": "markdown",
      "id": "be9e77ab",
      "metadata": {
        "id": "be9e77ab"
      },
      "source": [
        "# Model 1"
      ]
    },
    {
      "cell_type": "markdown",
      "id": "3064ae63",
      "metadata": {
        "id": "3064ae63"
      },
      "source": [
        "### WITH DROPOUTS, BATCH_NORM AND EARLY STOPPING"
      ]
    },
    {
      "cell_type": "code",
      "execution_count": 15,
      "id": "9bb2c0d9",
      "metadata": {
        "id": "9bb2c0d9"
      },
      "outputs": [],
      "source": [
        "callback = tf.keras.callbacks.EarlyStopping(monitor='loss', patience=2)\n",
        "\n",
        "model = Sequential()\n",
        "\n",
        "model.add(Conv2D(32, (3, 3), activation='relu', input_shape=(img_width, img_height, 3)))\n",
        "model.add(BatchNormalization())\n",
        "model.add(MaxPooling2D((2, 2)))\n",
        "model.add(Dropout(0.2))\n",
        "\n",
        "model.add(Conv2D(64, (3, 3), activation='relu'))\n",
        "model.add(BatchNormalization())\n",
        "model.add(MaxPooling2D((2, 2)))\n",
        "model.add(Dropout(0.2))\n",
        "\n",
        "model.add(Conv2D(128, (3, 3), activation='relu'))\n",
        "model.add(BatchNormalization())\n",
        "model.add(MaxPooling2D((2, 2)))\n",
        "model.add(Dropout(0.2))\n",
        "\n",
        "model.add(Flatten())\n",
        "model.add(Dense(512, activation='relu'))\n",
        "model.add(BatchNormalization())\n",
        "model.add(Dropout(0.2))\n",
        "model.add(Dense(len(CLASSES), activation='softmax'))"
      ]
    },
    {
      "cell_type": "code",
      "execution_count": 16,
      "id": "4323ac06",
      "metadata": {
        "id": "4323ac06",
        "outputId": "23056217-9339-4765-9f1f-49df546183d3",
        "colab": {
          "base_uri": "https://localhost:8080/"
        }
      },
      "outputs": [
        {
          "output_type": "stream",
          "name": "stderr",
          "text": [
            "WARNING:absl:`lr` is deprecated in Keras optimizer, please use `learning_rate` or use the legacy optimizer, e.g.,tf.keras.optimizers.legacy.SGD.\n",
            "<ipython-input-16-22eb5d98f54d>:10: UserWarning: `Model.fit_generator` is deprecated and will be removed in a future version. Please use `Model.fit`, which supports generators.\n",
            "  history = model.fit_generator(generator=train_gen,\n"
          ]
        },
        {
          "output_type": "stream",
          "name": "stdout",
          "text": [
            "Epoch 1/20\n",
            "11/11 [==============================] - 6s 375ms/step - loss: 2.8974 - accuracy: 0.2683 - val_loss: 18.0500 - val_accuracy: 0.2812\n",
            "Epoch 2/20\n",
            "11/11 [==============================] - 4s 320ms/step - loss: 1.4269 - accuracy: 0.4817 - val_loss: 24.4584 - val_accuracy: 0.1875\n",
            "Epoch 3/20\n",
            "11/11 [==============================] - 4s 328ms/step - loss: 0.9470 - accuracy: 0.6311 - val_loss: 28.8623 - val_accuracy: 0.1562\n",
            "Epoch 4/20\n",
            "11/11 [==============================] - 4s 311ms/step - loss: 0.7473 - accuracy: 0.7195 - val_loss: 21.3096 - val_accuracy: 0.2188\n",
            "Epoch 5/20\n",
            "11/11 [==============================] - 4s 376ms/step - loss: 0.4697 - accuracy: 0.8323 - val_loss: 16.1652 - val_accuracy: 0.1250\n",
            "Epoch 6/20\n",
            "11/11 [==============================] - 3s 297ms/step - loss: 0.4075 - accuracy: 0.8598 - val_loss: 15.5539 - val_accuracy: 0.1562\n",
            "Epoch 7/20\n",
            "11/11 [==============================] - 4s 322ms/step - loss: 0.3153 - accuracy: 0.9085 - val_loss: 20.9922 - val_accuracy: 0.2500\n",
            "Epoch 8/20\n",
            "11/11 [==============================] - 4s 351ms/step - loss: 0.3145 - accuracy: 0.9146 - val_loss: 12.8412 - val_accuracy: 0.1562\n",
            "Epoch 9/20\n",
            "11/11 [==============================] - 3s 294ms/step - loss: 0.1635 - accuracy: 0.9695 - val_loss: 18.0615 - val_accuracy: 0.1562\n",
            "Epoch 10/20\n",
            "11/11 [==============================] - 4s 321ms/step - loss: 0.1254 - accuracy: 0.9604 - val_loss: 18.1266 - val_accuracy: 0.1875\n",
            "Epoch 11/20\n",
            "11/11 [==============================] - 3s 296ms/step - loss: 0.1549 - accuracy: 0.9482 - val_loss: 27.8397 - val_accuracy: 0.2188\n",
            "Epoch 12/20\n",
            "11/11 [==============================] - 3s 295ms/step - loss: 0.1438 - accuracy: 0.9512 - val_loss: 41.3318 - val_accuracy: 0.1250\n"
          ]
        }
      ],
      "source": [
        "# Compile the model\n",
        "opt = tf.keras.optimizers.SGD(lr=0.001, momentum=0.9)\n",
        "model.compile(loss='categorical_crossentropy',\n",
        "              optimizer=opt,\n",
        "              metrics=['accuracy'])\n",
        "\n",
        "STEP_SIZE_TRAIN=train_gen.n//train_gen.batch_size\n",
        "STEP_SIZE_VALID=validation_gen.n//validation_gen.batch_size\n",
        "\n",
        "history = model.fit_generator(generator=train_gen,\n",
        "                    steps_per_epoch=STEP_SIZE_TRAIN,\n",
        "                    validation_data=validation_gen,\n",
        "                    validation_steps=STEP_SIZE_VALID,\n",
        "                    epochs=EPOCHS,\n",
        "                    callbacks=[callback],\n",
        "                    verbose=1\n",
        ")"
      ]
    },
    {
      "cell_type": "code",
      "execution_count": 17,
      "id": "46c7e64f",
      "metadata": {
        "id": "46c7e64f"
      },
      "outputs": [],
      "source": [
        "model.save('model1.keras')"
      ]
    },
    {
      "cell_type": "code",
      "execution_count": 18,
      "id": "c4109763",
      "metadata": {
        "id": "c4109763"
      },
      "outputs": [],
      "source": [
        "callback = tf.keras.callbacks.EarlyStopping(monitor='loss', patience=2)\n",
        "\n",
        "model = Sequential()\n",
        "\n",
        "model.add(Conv2D(32, (3, 3), activation='relu', input_shape=(img_width, img_height, 3)))\n",
        "model.add(BatchNormalization())\n",
        "model.add(MaxPooling2D((2, 2)))\n",
        "model.add(Dropout(0.2))\n",
        "\n",
        "model.add(Conv2D(64, (3, 3), activation='relu'))\n",
        "model.add(BatchNormalization())\n",
        "model.add(MaxPooling2D((2, 2)))\n",
        "model.add(Dropout(0.2))\n",
        "\n",
        "model.add(Flatten())\n",
        "model.add(Dense(512, activation='relu'))\n",
        "model.add(BatchNormalization())\n",
        "model.add(Dropout(0.2))\n",
        "model.add(Dense(len(CLASSES), activation='softmax'))\n",
        "\n",
        "model.compile(loss='categorical_crossentropy',\n",
        "              optimizer=Adam(learning_rate=0.0001),\n",
        "              metrics=['accuracy'])"
      ]
    },
    {
      "cell_type": "markdown",
      "id": "68aede5d",
      "metadata": {
        "id": "68aede5d"
      },
      "source": [
        "# Model 2"
      ]
    },
    {
      "cell_type": "code",
      "execution_count": null,
      "id": "e0319b2a",
      "metadata": {
        "id": "e0319b2a",
        "outputId": "ff06924b-2ad5-4a01-b4b0-43fbd80e3fb0"
      },
      "outputs": [
        {
          "name": "stdout",
          "output_type": "stream",
          "text": [
            "Epoch 1/20\n",
            "13/13 [==============================] - 261s 19s/step - loss: 2.0993 - accuracy: 0.3704 - val_loss: 1.7191 - val_accuracy: 0.2444\n",
            "Epoch 2/20\n",
            "13/13 [==============================] - 228s 17s/step - loss: 0.6250 - accuracy: 0.7951 - val_loss: 2.3985 - val_accuracy: 0.2000\n",
            "Epoch 3/20\n",
            "13/13 [==============================] - 199s 15s/step - loss: 0.2955 - accuracy: 0.9210 - val_loss: 3.5069 - val_accuracy: 0.2000\n",
            "Epoch 4/20\n",
            "13/13 [==============================] - 190s 15s/step - loss: 0.1333 - accuracy: 0.9877 - val_loss: 4.5011 - val_accuracy: 0.2000\n",
            "Epoch 5/20\n",
            "13/13 [==============================] - 188s 14s/step - loss: 0.0619 - accuracy: 0.9926 - val_loss: 4.9750 - val_accuracy: 0.2000\n",
            "Epoch 6/20\n",
            "13/13 [==============================] - 204s 16s/step - loss: 0.0322 - accuracy: 0.9975 - val_loss: 4.8684 - val_accuracy: 0.2000\n",
            "Epoch 7/20\n",
            "13/13 [==============================] - 207s 15s/step - loss: 0.0198 - accuracy: 0.9975 - val_loss: 5.0436 - val_accuracy: 0.1556\n",
            "Epoch 8/20\n",
            "13/13 [==============================] - 186s 13s/step - loss: 0.0115 - accuracy: 1.0000 - val_loss: 6.1579 - val_accuracy: 0.2000\n",
            "Epoch 9/20\n",
            "13/13 [==============================] - 190s 14s/step - loss: 0.0080 - accuracy: 1.0000 - val_loss: 7.6860 - val_accuracy: 0.2000\n",
            "Epoch 10/20\n",
            "13/13 [==============================] - 211s 16s/step - loss: 0.0046 - accuracy: 1.0000 - val_loss: 9.1819 - val_accuracy: 0.2000\n",
            "Epoch 11/20\n",
            "13/13 [==============================] - 291s 23s/step - loss: 0.0045 - accuracy: 1.0000 - val_loss: 10.6652 - val_accuracy: 0.2000\n",
            "Epoch 12/20\n",
            "13/13 [==============================] - 356s 27s/step - loss: 0.0044 - accuracy: 1.0000 - val_loss: 12.1255 - val_accuracy: 0.2000\n",
            "Epoch 13/20\n",
            "13/13 [==============================] - 200s 15s/step - loss: 0.0037 - accuracy: 1.0000 - val_loss: 13.5714 - val_accuracy: 0.2000\n",
            "Epoch 14/20\n",
            "13/13 [==============================] - 221s 17s/step - loss: 0.0041 - accuracy: 1.0000 - val_loss: 15.0571 - val_accuracy: 0.2000\n",
            "Epoch 15/20\n",
            "13/13 [==============================] - 209s 15s/step - loss: 0.0035 - accuracy: 1.0000 - val_loss: 16.6829 - val_accuracy: 0.2000\n",
            "Epoch 16/20\n",
            "13/13 [==============================] - 357s 28s/step - loss: 0.0033 - accuracy: 1.0000 - val_loss: 18.3880 - val_accuracy: 0.2000\n",
            "Epoch 17/20\n",
            " 9/13 [===================>..........] - ETA: 2:33 - loss: 0.0029 - accuracy: 1.0000"
          ]
        },
        {
          "ename": "KeyboardInterrupt",
          "evalue": "",
          "output_type": "error",
          "traceback": [
            "\u001b[1;31m---------------------------------------------------------------------------\u001b[0m",
            "\u001b[1;31mKeyboardInterrupt\u001b[0m                         Traceback (most recent call last)",
            "Cell \u001b[1;32mIn[56], line 1\u001b[0m\n\u001b[1;32m----> 1\u001b[0m history \u001b[38;5;241m=\u001b[39m \u001b[43mmodel\u001b[49m\u001b[38;5;241;43m.\u001b[39;49m\u001b[43mfit\u001b[49m\u001b[43m(\u001b[49m\n\u001b[0;32m      2\u001b[0m \u001b[43m    \u001b[49m\u001b[43mtrain_gen\u001b[49m\u001b[43m,\u001b[49m\n\u001b[0;32m      3\u001b[0m \u001b[43m    \u001b[49m\u001b[43msteps_per_epoch\u001b[49m\u001b[38;5;241;43m=\u001b[39;49m\u001b[38;5;28;43mlen\u001b[39;49m\u001b[43m(\u001b[49m\u001b[43mtrain_gen\u001b[49m\u001b[43m)\u001b[49m\u001b[43m,\u001b[49m\n\u001b[0;32m      4\u001b[0m \u001b[43m    \u001b[49m\u001b[43mepochs\u001b[49m\u001b[38;5;241;43m=\u001b[39;49m\u001b[43mEPOCHS\u001b[49m\u001b[43m,\u001b[49m\n\u001b[0;32m      5\u001b[0m \u001b[43m    \u001b[49m\u001b[43mvalidation_data\u001b[49m\u001b[38;5;241;43m=\u001b[39;49m\u001b[43mvalidation_gen\u001b[49m\u001b[43m,\u001b[49m\n\u001b[0;32m      6\u001b[0m \u001b[43m    \u001b[49m\u001b[43mvalidation_steps\u001b[49m\u001b[38;5;241;43m=\u001b[39;49m\u001b[38;5;28;43mlen\u001b[39;49m\u001b[43m(\u001b[49m\u001b[43mvalidation_gen\u001b[49m\u001b[43m)\u001b[49m\n\u001b[0;32m      7\u001b[0m \u001b[43m)\u001b[49m\n",
            "File \u001b[1;32m~\\AppData\\Local\\Programs\\Python\\Python311\\Lib\\site-packages\\keras\\src\\utils\\traceback_utils.py:65\u001b[0m, in \u001b[0;36mfilter_traceback.<locals>.error_handler\u001b[1;34m(*args, **kwargs)\u001b[0m\n\u001b[0;32m     63\u001b[0m filtered_tb \u001b[38;5;241m=\u001b[39m \u001b[38;5;28;01mNone\u001b[39;00m\n\u001b[0;32m     64\u001b[0m \u001b[38;5;28;01mtry\u001b[39;00m:\n\u001b[1;32m---> 65\u001b[0m     \u001b[38;5;28;01mreturn\u001b[39;00m \u001b[43mfn\u001b[49m\u001b[43m(\u001b[49m\u001b[38;5;241;43m*\u001b[39;49m\u001b[43margs\u001b[49m\u001b[43m,\u001b[49m\u001b[43m \u001b[49m\u001b[38;5;241;43m*\u001b[39;49m\u001b[38;5;241;43m*\u001b[39;49m\u001b[43mkwargs\u001b[49m\u001b[43m)\u001b[49m\n\u001b[0;32m     66\u001b[0m \u001b[38;5;28;01mexcept\u001b[39;00m \u001b[38;5;167;01mException\u001b[39;00m \u001b[38;5;28;01mas\u001b[39;00m e:\n\u001b[0;32m     67\u001b[0m     filtered_tb \u001b[38;5;241m=\u001b[39m _process_traceback_frames(e\u001b[38;5;241m.\u001b[39m__traceback__)\n",
            "File \u001b[1;32m~\\AppData\\Local\\Programs\\Python\\Python311\\Lib\\site-packages\\keras\\src\\engine\\training.py:1742\u001b[0m, in \u001b[0;36mModel.fit\u001b[1;34m(self, x, y, batch_size, epochs, verbose, callbacks, validation_split, validation_data, shuffle, class_weight, sample_weight, initial_epoch, steps_per_epoch, validation_steps, validation_batch_size, validation_freq, max_queue_size, workers, use_multiprocessing)\u001b[0m\n\u001b[0;32m   1734\u001b[0m \u001b[38;5;28;01mwith\u001b[39;00m tf\u001b[38;5;241m.\u001b[39mprofiler\u001b[38;5;241m.\u001b[39mexperimental\u001b[38;5;241m.\u001b[39mTrace(\n\u001b[0;32m   1735\u001b[0m     \u001b[38;5;124m\"\u001b[39m\u001b[38;5;124mtrain\u001b[39m\u001b[38;5;124m\"\u001b[39m,\n\u001b[0;32m   1736\u001b[0m     epoch_num\u001b[38;5;241m=\u001b[39mepoch,\n\u001b[1;32m   (...)\u001b[0m\n\u001b[0;32m   1739\u001b[0m     _r\u001b[38;5;241m=\u001b[39m\u001b[38;5;241m1\u001b[39m,\n\u001b[0;32m   1740\u001b[0m ):\n\u001b[0;32m   1741\u001b[0m     callbacks\u001b[38;5;241m.\u001b[39mon_train_batch_begin(step)\n\u001b[1;32m-> 1742\u001b[0m     tmp_logs \u001b[38;5;241m=\u001b[39m \u001b[38;5;28;43mself\u001b[39;49m\u001b[38;5;241;43m.\u001b[39;49m\u001b[43mtrain_function\u001b[49m\u001b[43m(\u001b[49m\u001b[43miterator\u001b[49m\u001b[43m)\u001b[49m\n\u001b[0;32m   1743\u001b[0m     \u001b[38;5;28;01mif\u001b[39;00m data_handler\u001b[38;5;241m.\u001b[39mshould_sync:\n\u001b[0;32m   1744\u001b[0m         context\u001b[38;5;241m.\u001b[39masync_wait()\n",
            "File \u001b[1;32m~\\AppData\\Local\\Programs\\Python\\Python311\\Lib\\site-packages\\tensorflow\\python\\util\\traceback_utils.py:150\u001b[0m, in \u001b[0;36mfilter_traceback.<locals>.error_handler\u001b[1;34m(*args, **kwargs)\u001b[0m\n\u001b[0;32m    148\u001b[0m filtered_tb \u001b[38;5;241m=\u001b[39m \u001b[38;5;28;01mNone\u001b[39;00m\n\u001b[0;32m    149\u001b[0m \u001b[38;5;28;01mtry\u001b[39;00m:\n\u001b[1;32m--> 150\u001b[0m   \u001b[38;5;28;01mreturn\u001b[39;00m \u001b[43mfn\u001b[49m\u001b[43m(\u001b[49m\u001b[38;5;241;43m*\u001b[39;49m\u001b[43margs\u001b[49m\u001b[43m,\u001b[49m\u001b[43m \u001b[49m\u001b[38;5;241;43m*\u001b[39;49m\u001b[38;5;241;43m*\u001b[39;49m\u001b[43mkwargs\u001b[49m\u001b[43m)\u001b[49m\n\u001b[0;32m    151\u001b[0m \u001b[38;5;28;01mexcept\u001b[39;00m \u001b[38;5;167;01mException\u001b[39;00m \u001b[38;5;28;01mas\u001b[39;00m e:\n\u001b[0;32m    152\u001b[0m   filtered_tb \u001b[38;5;241m=\u001b[39m _process_traceback_frames(e\u001b[38;5;241m.\u001b[39m__traceback__)\n",
            "File \u001b[1;32m~\\AppData\\Local\\Programs\\Python\\Python311\\Lib\\site-packages\\tensorflow\\python\\eager\\polymorphic_function\\polymorphic_function.py:825\u001b[0m, in \u001b[0;36mFunction.__call__\u001b[1;34m(self, *args, **kwds)\u001b[0m\n\u001b[0;32m    822\u001b[0m compiler \u001b[38;5;241m=\u001b[39m \u001b[38;5;124m\"\u001b[39m\u001b[38;5;124mxla\u001b[39m\u001b[38;5;124m\"\u001b[39m \u001b[38;5;28;01mif\u001b[39;00m \u001b[38;5;28mself\u001b[39m\u001b[38;5;241m.\u001b[39m_jit_compile \u001b[38;5;28;01melse\u001b[39;00m \u001b[38;5;124m\"\u001b[39m\u001b[38;5;124mnonXla\u001b[39m\u001b[38;5;124m\"\u001b[39m\n\u001b[0;32m    824\u001b[0m \u001b[38;5;28;01mwith\u001b[39;00m OptionalXlaContext(\u001b[38;5;28mself\u001b[39m\u001b[38;5;241m.\u001b[39m_jit_compile):\n\u001b[1;32m--> 825\u001b[0m   result \u001b[38;5;241m=\u001b[39m \u001b[38;5;28;43mself\u001b[39;49m\u001b[38;5;241;43m.\u001b[39;49m\u001b[43m_call\u001b[49m\u001b[43m(\u001b[49m\u001b[38;5;241;43m*\u001b[39;49m\u001b[43margs\u001b[49m\u001b[43m,\u001b[49m\u001b[43m \u001b[49m\u001b[38;5;241;43m*\u001b[39;49m\u001b[38;5;241;43m*\u001b[39;49m\u001b[43mkwds\u001b[49m\u001b[43m)\u001b[49m\n\u001b[0;32m    827\u001b[0m new_tracing_count \u001b[38;5;241m=\u001b[39m \u001b[38;5;28mself\u001b[39m\u001b[38;5;241m.\u001b[39mexperimental_get_tracing_count()\n\u001b[0;32m    828\u001b[0m without_tracing \u001b[38;5;241m=\u001b[39m (tracing_count \u001b[38;5;241m==\u001b[39m new_tracing_count)\n",
            "File \u001b[1;32m~\\AppData\\Local\\Programs\\Python\\Python311\\Lib\\site-packages\\tensorflow\\python\\eager\\polymorphic_function\\polymorphic_function.py:857\u001b[0m, in \u001b[0;36mFunction._call\u001b[1;34m(self, *args, **kwds)\u001b[0m\n\u001b[0;32m    854\u001b[0m   \u001b[38;5;28mself\u001b[39m\u001b[38;5;241m.\u001b[39m_lock\u001b[38;5;241m.\u001b[39mrelease()\n\u001b[0;32m    855\u001b[0m   \u001b[38;5;66;03m# In this case we have created variables on the first call, so we run the\u001b[39;00m\n\u001b[0;32m    856\u001b[0m   \u001b[38;5;66;03m# defunned version which is guaranteed to never create variables.\u001b[39;00m\n\u001b[1;32m--> 857\u001b[0m   \u001b[38;5;28;01mreturn\u001b[39;00m \u001b[38;5;28;43mself\u001b[39;49m\u001b[38;5;241;43m.\u001b[39;49m\u001b[43m_no_variable_creation_fn\u001b[49m\u001b[43m(\u001b[49m\u001b[38;5;241;43m*\u001b[39;49m\u001b[43margs\u001b[49m\u001b[43m,\u001b[49m\u001b[43m \u001b[49m\u001b[38;5;241;43m*\u001b[39;49m\u001b[38;5;241;43m*\u001b[39;49m\u001b[43mkwds\u001b[49m\u001b[43m)\u001b[49m  \u001b[38;5;66;03m# pylint: disable=not-callable\u001b[39;00m\n\u001b[0;32m    858\u001b[0m \u001b[38;5;28;01melif\u001b[39;00m \u001b[38;5;28mself\u001b[39m\u001b[38;5;241m.\u001b[39m_variable_creation_fn \u001b[38;5;129;01mis\u001b[39;00m \u001b[38;5;129;01mnot\u001b[39;00m \u001b[38;5;28;01mNone\u001b[39;00m:\n\u001b[0;32m    859\u001b[0m   \u001b[38;5;66;03m# Release the lock early so that multiple threads can perform the call\u001b[39;00m\n\u001b[0;32m    860\u001b[0m   \u001b[38;5;66;03m# in parallel.\u001b[39;00m\n\u001b[0;32m    861\u001b[0m   \u001b[38;5;28mself\u001b[39m\u001b[38;5;241m.\u001b[39m_lock\u001b[38;5;241m.\u001b[39mrelease()\n",
            "File \u001b[1;32m~\\AppData\\Local\\Programs\\Python\\Python311\\Lib\\site-packages\\tensorflow\\python\\eager\\polymorphic_function\\tracing_compiler.py:148\u001b[0m, in \u001b[0;36mTracingCompiler.__call__\u001b[1;34m(self, *args, **kwargs)\u001b[0m\n\u001b[0;32m    145\u001b[0m \u001b[38;5;28;01mwith\u001b[39;00m \u001b[38;5;28mself\u001b[39m\u001b[38;5;241m.\u001b[39m_lock:\n\u001b[0;32m    146\u001b[0m   (concrete_function,\n\u001b[0;32m    147\u001b[0m    filtered_flat_args) \u001b[38;5;241m=\u001b[39m \u001b[38;5;28mself\u001b[39m\u001b[38;5;241m.\u001b[39m_maybe_define_function(args, kwargs)\n\u001b[1;32m--> 148\u001b[0m \u001b[38;5;28;01mreturn\u001b[39;00m \u001b[43mconcrete_function\u001b[49m\u001b[38;5;241;43m.\u001b[39;49m\u001b[43m_call_flat\u001b[49m\u001b[43m(\u001b[49m\n\u001b[0;32m    149\u001b[0m \u001b[43m    \u001b[49m\u001b[43mfiltered_flat_args\u001b[49m\u001b[43m,\u001b[49m\u001b[43m \u001b[49m\u001b[43mcaptured_inputs\u001b[49m\u001b[38;5;241;43m=\u001b[39;49m\u001b[43mconcrete_function\u001b[49m\u001b[38;5;241;43m.\u001b[39;49m\u001b[43mcaptured_inputs\u001b[49m\u001b[43m)\u001b[49m\n",
            "File \u001b[1;32m~\\AppData\\Local\\Programs\\Python\\Python311\\Lib\\site-packages\\tensorflow\\python\\eager\\polymorphic_function\\monomorphic_function.py:1349\u001b[0m, in \u001b[0;36mConcreteFunction._call_flat\u001b[1;34m(self, args, captured_inputs)\u001b[0m\n\u001b[0;32m   1345\u001b[0m possible_gradient_type \u001b[38;5;241m=\u001b[39m gradients_util\u001b[38;5;241m.\u001b[39mPossibleTapeGradientTypes(args)\n\u001b[0;32m   1346\u001b[0m \u001b[38;5;28;01mif\u001b[39;00m (possible_gradient_type \u001b[38;5;241m==\u001b[39m gradients_util\u001b[38;5;241m.\u001b[39mPOSSIBLE_GRADIENT_TYPES_NONE\n\u001b[0;32m   1347\u001b[0m     \u001b[38;5;129;01mand\u001b[39;00m executing_eagerly):\n\u001b[0;32m   1348\u001b[0m   \u001b[38;5;66;03m# No tape is watching; skip to running the function.\u001b[39;00m\n\u001b[1;32m-> 1349\u001b[0m   \u001b[38;5;28;01mreturn\u001b[39;00m \u001b[38;5;28mself\u001b[39m\u001b[38;5;241m.\u001b[39m_build_call_outputs(\u001b[38;5;28;43mself\u001b[39;49m\u001b[38;5;241;43m.\u001b[39;49m\u001b[43m_inference_function\u001b[49m\u001b[43m(\u001b[49m\u001b[38;5;241;43m*\u001b[39;49m\u001b[43margs\u001b[49m\u001b[43m)\u001b[49m)\n\u001b[0;32m   1350\u001b[0m forward_backward \u001b[38;5;241m=\u001b[39m \u001b[38;5;28mself\u001b[39m\u001b[38;5;241m.\u001b[39m_select_forward_and_backward_functions(\n\u001b[0;32m   1351\u001b[0m     args,\n\u001b[0;32m   1352\u001b[0m     possible_gradient_type,\n\u001b[0;32m   1353\u001b[0m     executing_eagerly)\n\u001b[0;32m   1354\u001b[0m forward_function, args_with_tangents \u001b[38;5;241m=\u001b[39m forward_backward\u001b[38;5;241m.\u001b[39mforward()\n",
            "File \u001b[1;32m~\\AppData\\Local\\Programs\\Python\\Python311\\Lib\\site-packages\\tensorflow\\python\\eager\\polymorphic_function\\atomic_function.py:196\u001b[0m, in \u001b[0;36mAtomicFunction.__call__\u001b[1;34m(self, *args)\u001b[0m\n\u001b[0;32m    194\u001b[0m \u001b[38;5;28;01mwith\u001b[39;00m record\u001b[38;5;241m.\u001b[39mstop_recording():\n\u001b[0;32m    195\u001b[0m   \u001b[38;5;28;01mif\u001b[39;00m \u001b[38;5;28mself\u001b[39m\u001b[38;5;241m.\u001b[39m_bound_context\u001b[38;5;241m.\u001b[39mexecuting_eagerly():\n\u001b[1;32m--> 196\u001b[0m     outputs \u001b[38;5;241m=\u001b[39m \u001b[38;5;28;43mself\u001b[39;49m\u001b[38;5;241;43m.\u001b[39;49m\u001b[43m_bound_context\u001b[49m\u001b[38;5;241;43m.\u001b[39;49m\u001b[43mcall_function\u001b[49m\u001b[43m(\u001b[49m\n\u001b[0;32m    197\u001b[0m \u001b[43m        \u001b[49m\u001b[38;5;28;43mself\u001b[39;49m\u001b[38;5;241;43m.\u001b[39;49m\u001b[43mname\u001b[49m\u001b[43m,\u001b[49m\n\u001b[0;32m    198\u001b[0m \u001b[43m        \u001b[49m\u001b[38;5;28;43mlist\u001b[39;49m\u001b[43m(\u001b[49m\u001b[43margs\u001b[49m\u001b[43m)\u001b[49m\u001b[43m,\u001b[49m\n\u001b[0;32m    199\u001b[0m \u001b[43m        \u001b[49m\u001b[38;5;28;43mlen\u001b[39;49m\u001b[43m(\u001b[49m\u001b[38;5;28;43mself\u001b[39;49m\u001b[38;5;241;43m.\u001b[39;49m\u001b[43mfunction_type\u001b[49m\u001b[38;5;241;43m.\u001b[39;49m\u001b[43mflat_outputs\u001b[49m\u001b[43m)\u001b[49m\u001b[43m,\u001b[49m\n\u001b[0;32m    200\u001b[0m \u001b[43m    \u001b[49m\u001b[43m)\u001b[49m\n\u001b[0;32m    201\u001b[0m   \u001b[38;5;28;01melse\u001b[39;00m:\n\u001b[0;32m    202\u001b[0m     outputs \u001b[38;5;241m=\u001b[39m make_call_op_in_graph(\u001b[38;5;28mself\u001b[39m, \u001b[38;5;28mlist\u001b[39m(args))\n",
            "File \u001b[1;32m~\\AppData\\Local\\Programs\\Python\\Python311\\Lib\\site-packages\\tensorflow\\python\\eager\\context.py:1457\u001b[0m, in \u001b[0;36mContext.call_function\u001b[1;34m(self, name, tensor_inputs, num_outputs)\u001b[0m\n\u001b[0;32m   1455\u001b[0m cancellation_context \u001b[38;5;241m=\u001b[39m cancellation\u001b[38;5;241m.\u001b[39mcontext()\n\u001b[0;32m   1456\u001b[0m \u001b[38;5;28;01mif\u001b[39;00m cancellation_context \u001b[38;5;129;01mis\u001b[39;00m \u001b[38;5;28;01mNone\u001b[39;00m:\n\u001b[1;32m-> 1457\u001b[0m   outputs \u001b[38;5;241m=\u001b[39m \u001b[43mexecute\u001b[49m\u001b[38;5;241;43m.\u001b[39;49m\u001b[43mexecute\u001b[49m\u001b[43m(\u001b[49m\n\u001b[0;32m   1458\u001b[0m \u001b[43m      \u001b[49m\u001b[43mname\u001b[49m\u001b[38;5;241;43m.\u001b[39;49m\u001b[43mdecode\u001b[49m\u001b[43m(\u001b[49m\u001b[38;5;124;43m\"\u001b[39;49m\u001b[38;5;124;43mutf-8\u001b[39;49m\u001b[38;5;124;43m\"\u001b[39;49m\u001b[43m)\u001b[49m\u001b[43m,\u001b[49m\n\u001b[0;32m   1459\u001b[0m \u001b[43m      \u001b[49m\u001b[43mnum_outputs\u001b[49m\u001b[38;5;241;43m=\u001b[39;49m\u001b[43mnum_outputs\u001b[49m\u001b[43m,\u001b[49m\n\u001b[0;32m   1460\u001b[0m \u001b[43m      \u001b[49m\u001b[43minputs\u001b[49m\u001b[38;5;241;43m=\u001b[39;49m\u001b[43mtensor_inputs\u001b[49m\u001b[43m,\u001b[49m\n\u001b[0;32m   1461\u001b[0m \u001b[43m      \u001b[49m\u001b[43mattrs\u001b[49m\u001b[38;5;241;43m=\u001b[39;49m\u001b[43mattrs\u001b[49m\u001b[43m,\u001b[49m\n\u001b[0;32m   1462\u001b[0m \u001b[43m      \u001b[49m\u001b[43mctx\u001b[49m\u001b[38;5;241;43m=\u001b[39;49m\u001b[38;5;28;43mself\u001b[39;49m\u001b[43m,\u001b[49m\n\u001b[0;32m   1463\u001b[0m \u001b[43m  \u001b[49m\u001b[43m)\u001b[49m\n\u001b[0;32m   1464\u001b[0m \u001b[38;5;28;01melse\u001b[39;00m:\n\u001b[0;32m   1465\u001b[0m   outputs \u001b[38;5;241m=\u001b[39m execute\u001b[38;5;241m.\u001b[39mexecute_with_cancellation(\n\u001b[0;32m   1466\u001b[0m       name\u001b[38;5;241m.\u001b[39mdecode(\u001b[38;5;124m\"\u001b[39m\u001b[38;5;124mutf-8\u001b[39m\u001b[38;5;124m\"\u001b[39m),\n\u001b[0;32m   1467\u001b[0m       num_outputs\u001b[38;5;241m=\u001b[39mnum_outputs,\n\u001b[1;32m   (...)\u001b[0m\n\u001b[0;32m   1471\u001b[0m       cancellation_manager\u001b[38;5;241m=\u001b[39mcancellation_context,\n\u001b[0;32m   1472\u001b[0m   )\n",
            "File \u001b[1;32m~\\AppData\\Local\\Programs\\Python\\Python311\\Lib\\site-packages\\tensorflow\\python\\eager\\execute.py:53\u001b[0m, in \u001b[0;36mquick_execute\u001b[1;34m(op_name, num_outputs, inputs, attrs, ctx, name)\u001b[0m\n\u001b[0;32m     51\u001b[0m \u001b[38;5;28;01mtry\u001b[39;00m:\n\u001b[0;32m     52\u001b[0m   ctx\u001b[38;5;241m.\u001b[39mensure_initialized()\n\u001b[1;32m---> 53\u001b[0m   tensors \u001b[38;5;241m=\u001b[39m \u001b[43mpywrap_tfe\u001b[49m\u001b[38;5;241;43m.\u001b[39;49m\u001b[43mTFE_Py_Execute\u001b[49m\u001b[43m(\u001b[49m\u001b[43mctx\u001b[49m\u001b[38;5;241;43m.\u001b[39;49m\u001b[43m_handle\u001b[49m\u001b[43m,\u001b[49m\u001b[43m \u001b[49m\u001b[43mdevice_name\u001b[49m\u001b[43m,\u001b[49m\u001b[43m \u001b[49m\u001b[43mop_name\u001b[49m\u001b[43m,\u001b[49m\n\u001b[0;32m     54\u001b[0m \u001b[43m                                      \u001b[49m\u001b[43minputs\u001b[49m\u001b[43m,\u001b[49m\u001b[43m \u001b[49m\u001b[43mattrs\u001b[49m\u001b[43m,\u001b[49m\u001b[43m \u001b[49m\u001b[43mnum_outputs\u001b[49m\u001b[43m)\u001b[49m\n\u001b[0;32m     55\u001b[0m \u001b[38;5;28;01mexcept\u001b[39;00m core\u001b[38;5;241m.\u001b[39m_NotOkStatusException \u001b[38;5;28;01mas\u001b[39;00m e:\n\u001b[0;32m     56\u001b[0m   \u001b[38;5;28;01mif\u001b[39;00m name \u001b[38;5;129;01mis\u001b[39;00m \u001b[38;5;129;01mnot\u001b[39;00m \u001b[38;5;28;01mNone\u001b[39;00m:\n",
            "\u001b[1;31mKeyboardInterrupt\u001b[0m: "
          ]
        }
      ],
      "source": [
        "history = model.fit(\n",
        "    train_gen,\n",
        "    steps_per_epoch=len(train_gen),\n",
        "    epochs=EPOCHS,\n",
        "    validation_data=validation_gen,\n",
        "    validation_steps=len(validation_gen)\n",
        ")"
      ]
    },
    {
      "cell_type": "code",
      "execution_count": null,
      "id": "c203d2ab",
      "metadata": {
        "id": "c203d2ab"
      },
      "outputs": [],
      "source": []
    }
  ],
  "metadata": {
    "kernelspec": {
      "display_name": "Python 3",
      "name": "python3"
    },
    "language_info": {
      "codemirror_mode": {
        "name": "ipython",
        "version": 3
      },
      "file_extension": ".py",
      "mimetype": "text/x-python",
      "name": "python",
      "nbconvert_exporter": "python",
      "pygments_lexer": "ipython3",
      "version": "3.11.3"
    },
    "colab": {
      "provenance": [],
      "gpuType": "T4"
    },
    "accelerator": "GPU"
  },
  "nbformat": 4,
  "nbformat_minor": 5
}