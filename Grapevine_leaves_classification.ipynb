{
  "cells": [
    {
      "cell_type": "code",
      "execution_count": null,
      "id": "459bceb5",
      "metadata": {
        "id": "459bceb5"
      },
      "outputs": [],
      "source": [
        "from tensorflow.keras.models import Sequential, load_model\n",
        "from keras.layers import Conv2D, MaxPooling2D, Flatten, Dense, Dropout\n",
        "from keras.callbacks import EarlyStopping\n",
        "from tensorflow.keras.layers import BatchNormalization, Dropout\n",
        "from tensorflow.keras.preprocessing import image\n",
        "from tensorflow.keras.preprocessing.image import ImageDataGenerator\n",
        "from tensorflow.keras.regularizers import l1_l2\n",
        "from tensorflow.keras.optimizers import Adam\n",
        "from tensorflow.keras.applications import InceptionV3, VGG16\n",
        "\n",
        "from sklearn.metrics import accuracy_score, precision_recall_fscore_support\n",
        "\n",
        "import numpy as np\n",
        "import pandas as pd\n",
        "import tensorflow as tf\n",
        "import matplotlib.pyplot as plt\n",
        "from PIL import Image\n",
        "\n",
        "import os\n",
        "import requests\n",
        "import zipfile\n",
        "import glob\n",
        "\n",
        "from sklearn.model_selection import train_test_split\n",
        "\n",
        "from os import listdir\n",
        "from os.path import isdir, isfile, join"
      ]
    },
    {
      "cell_type": "code",
      "execution_count": null,
      "id": "H5yAzOAFmf7v",
      "metadata": {
        "id": "H5yAzOAFmf7v"
      },
      "outputs": [],
      "source": [
        "target_directory = 'data/'\n",
        "\n",
        "zip_url = 'https://www.muratkoklu.com/datasets/vtdhnd10.php'\n",
        "\n",
        "os.makedirs(target_directory, exist_ok=True)\n",
        "response = requests.get(zip_url)\n",
        "zip_path = os.path.join(target_directory, 'data.zip')\n",
        "\n",
        "with open(zip_path, 'wb') as zip_file:\n",
        "    zip_file.write(response.content)\n",
        "\n",
        "with zipfile.ZipFile(zip_path, 'r') as zip_ref:\n",
        "    zip_ref.extractall(target_directory)"
      ]
    },
    {
      "cell_type": "code",
      "execution_count": null,
      "id": "9hm08hEhps0p",
      "metadata": {
        "id": "9hm08hEhps0p"
      },
      "outputs": [],
      "source": [
        "data_dir = os.path.join(target_directory, 'Grapevine_Leaves_Image_Dataset/*')\n",
        "\n",
        "data = []\n",
        "labels = []\n",
        "\n",
        "\n",
        "for class_folder in glob.glob(data_dir):\n",
        "    label = os.path.basename(class_folder)\n",
        "\n",
        "    for image_path in glob.glob(os.path.join(class_folder, '*.png')):\n",
        "        labels.append(label)\n",
        "        data.append(image_path)"
      ]
    },
    {
      "cell_type": "code",
      "execution_count": null,
      "id": "METkMJXlq_OJ",
      "metadata": {
        "colab": {
          "base_uri": "https://localhost:8080/"
        },
        "id": "METkMJXlq_OJ",
        "outputId": "d4bbbd03-2645-43a0-a258-bdc42352ee1b"
      },
      "outputs": [],
      "source": [
        "print(len(data))"
      ]
    },
    {
      "cell_type": "code",
      "execution_count": null,
      "id": "qPDG0k3Vtcp9",
      "metadata": {
        "id": "qPDG0k3Vtcp9"
      },
      "outputs": [],
      "source": [
        "X_train, X_test, y_train, y_test = train_test_split(data, labels, test_size=0.2)"
      ]
    },
    {
      "cell_type": "code",
      "execution_count": null,
      "id": "uoqY1PJKv4YR",
      "metadata": {
        "colab": {
          "base_uri": "https://localhost:8080/"
        },
        "id": "uoqY1PJKv4YR",
        "outputId": "ba1e2e7b-a112-44f9-8c33-794e9a0a9dce"
      },
      "outputs": [],
      "source": [
        "print(X_train)"
      ]
    },
    {
      "cell_type": "code",
      "execution_count": null,
      "id": "946e3105",
      "metadata": {
        "id": "946e3105"
      },
      "outputs": [],
      "source": [
        "img_width = 300\n",
        "img_height = 300\n",
        "\n",
        "EPOCHS = 20\n",
        "BATCH_SIZE = 32\n",
        "\n",
        "IMAGE_SHAPE = (img_width, img_height)"
      ]
    },
    {
      "cell_type": "code",
      "execution_count": null,
      "id": "4c90edd7",
      "metadata": {
        "id": "4c90edd7"
      },
      "outputs": [],
      "source": [
        "datagen = ImageDataGenerator(\n",
        "    rescale=1/255.,\n",
        "    validation_split=0.1\n",
        ")"
      ]
    },
    {
      "cell_type": "code",
      "execution_count": null,
      "id": "61D9JhDe1Q0G",
      "metadata": {
        "colab": {
          "base_uri": "https://localhost:8080/"
        },
        "id": "61D9JhDe1Q0G",
        "outputId": "7f117d98-4aa0-459c-9bef-d1d5a9b13c39"
      },
      "outputs": [],
      "source": [
        "train_gen = datagen.flow_from_dataframe(\n",
        "    pd.DataFrame({'image_path': X_train, 'label': y_train}),\n",
        "    x_col='image_path',\n",
        "    y_col='label',\n",
        "    target_size=IMAGE_SHAPE,\n",
        "    batch_size=BATCH_SIZE,\n",
        "    subset='training',\n",
        "    class_mode='categorical',\n",
        "    shuffle=True\n",
        ")\n",
        "\n",
        "validation_gen = datagen.flow_from_dataframe(\n",
        "    pd.DataFrame({'image_path': X_train, 'label': y_train}),\n",
        "    x_col='image_path',\n",
        "    y_col='label',\n",
        "    target_size=IMAGE_SHAPE,\n",
        "    batch_size=BATCH_SIZE,\n",
        "    class_mode='categorical',\n",
        "    subset='validation',\n",
        "    shuffle=True\n",
        ")\n",
        "\n",
        "\n",
        "test_gen = datagen.flow_from_dataframe(\n",
        "    pd.DataFrame({'image_path': X_test, 'label': y_test}),\n",
        "    x_col='image_path',\n",
        "    y_col='label',\n",
        "    target_size=IMAGE_SHAPE,\n",
        "    batch_size=1,\n",
        "    class_mode=None,\n",
        "    shuffle=False\n",
        ")"
      ]
    },
    {
      "cell_type": "code",
      "execution_count": null,
      "id": "96uocc5H3W79",
      "metadata": {
        "id": "96uocc5H3W79"
      },
      "outputs": [],
      "source": [
        "CLASSES = set(y_train)"
      ]
    },
    {
      "cell_type": "markdown",
      "id": "38162a8a",
      "metadata": {
        "id": "38162a8a"
      },
      "source": [
        "# BASIC SEQUENTIAL MODEL"
      ]
    },
    {
      "cell_type": "code",
      "execution_count": null,
      "id": "86bdfcde",
      "metadata": {
        "id": "86bdfcde"
      },
      "outputs": [],
      "source": [
        "model = Sequential()\n",
        "\n",
        "# Add a 2D convolutional layer with 32 filters of size 3x3 and ReLU activation function\n",
        "model.add(Conv2D(32, (3, 3), activation='relu', input_shape=(img_width, img_height, 3)))\n",
        "\n",
        "# Add a MaxPooling layer to reduce the data size\n",
        "model.add(MaxPooling2D((2, 2)))\n",
        "\n",
        "# Add another 2D convolutional layer with 64 filters of size 3x3 and ReLU activation\n",
        "model.add(Conv2D(64, (3, 3), activation='relu'))\n",
        "\n",
        "# Add another MaxPooling layer\n",
        "model.add(MaxPooling2D((2, 2)))\n",
        "\n",
        "# Add a 2D convolutional layer with 128 filters of size 3x3 and ReLU activation\n",
        "model.add(Conv2D(128, (3, 3), activation='relu'))\n",
        "\n",
        "# Add another MaxPooling layer\n",
        "model.add(MaxPooling2D((2, 2)))\n",
        "\n",
        "# Flatten the data into a one-dimensional array\n",
        "model.add(Flatten())\n",
        "\n",
        "# Add a dense layer with 512 units and ReLU activation\n",
        "model.add(Dense(512, activation='relu'))\n",
        "\n",
        "# Add an output layer with one neuron and a sigmoid activation function (binary classification)\n",
        "model.add(Dense(len(CLASSES), activation='softmax'))\n",
        "\n",
        "# Compile the model\n",
        "model.compile(loss='categorical_crossentropy',\n",
        "              optimizer=Adam(learning_rate=0.0001),\n",
        "              metrics=['accuracy'])\n"
      ]
    },
    {
      "cell_type": "code",
      "execution_count": null,
      "id": "b27c9559",
      "metadata": {
        "colab": {
          "base_uri": "https://localhost:8080/"
        },
        "id": "b27c9559",
        "outputId": "b14392c0-fbcb-417d-aa81-f7bfcfa3b279"
      },
      "outputs": [],
      "source": [
        "history = model.fit(\n",
        "    train_gen,\n",
        "    steps_per_epoch=len(train_gen),\n",
        "    epochs=EPOCHS,\n",
        "    validation_data=validation_gen,\n",
        "    validation_steps=len(validation_gen)\n",
        ")\n",
        "\n",
        "# STEP_SIZE_TRAIN=train_gen.n//train_gen.batch_size\n",
        "# STEP_SIZE_VALID=validation_gen.n//validation_gen.batch_size\n",
        "\n",
        "# history = model.fit_generator(generator=train_gen,\n",
        "#                     steps_per_epoch=STEP_SIZE_TRAIN,\n",
        "#                     validation_data=validation_gen,\n",
        "#                     validation_steps=STEP_SIZE_VALID,\n",
        "#                     epochs=EPOCHS\n",
        "# )"
      ]
    },
    {
      "cell_type": "code",
      "execution_count": null,
      "id": "7dc163f1",
      "metadata": {
        "id": "7dc163f1"
      },
      "outputs": [],
      "source": [
        "model.save('basic_model.keras')"
      ]
    },
    {
      "cell_type": "markdown",
      "id": "be9e77ab",
      "metadata": {
        "id": "be9e77ab"
      },
      "source": [
        "# Model 1"
      ]
    },
    {
      "cell_type": "markdown",
      "id": "3064ae63",
      "metadata": {
        "id": "3064ae63"
      },
      "source": [
        "### WITH DROPOUTS, BATCH_NORM AND EARLY STOPPING"
      ]
    },
    {
      "cell_type": "code",
      "execution_count": null,
      "id": "9bb2c0d9",
      "metadata": {
        "id": "9bb2c0d9"
      },
      "outputs": [],
      "source": [
        "callback = tf.keras.callbacks.EarlyStopping(monitor='loss', patience=2)\n",
        "\n",
        "model = Sequential()\n",
        "\n",
        "model.add(Conv2D(32, (3, 3), activation='relu', input_shape=(img_width, img_height, 3)))\n",
        "model.add(BatchNormalization())\n",
        "model.add(MaxPooling2D((2, 2)))\n",
        "model.add(Dropout(0.2))\n",
        "\n",
        "model.add(Conv2D(64, (3, 3), activation='relu'))\n",
        "model.add(BatchNormalization())\n",
        "model.add(MaxPooling2D((2, 2)))\n",
        "model.add(Dropout(0.2))\n",
        "\n",
        "model.add(Conv2D(128, (3, 3), activation='relu'))\n",
        "model.add(BatchNormalization())\n",
        "model.add(MaxPooling2D((2, 2)))\n",
        "model.add(Dropout(0.2))\n",
        "\n",
        "model.add(Flatten())\n",
        "model.add(Dense(512, activation='relu'))\n",
        "model.add(BatchNormalization())\n",
        "model.add(Dropout(0.2))\n",
        "model.add(Dense(len(CLASSES), activation='softmax'))"
      ]
    },
    {
      "cell_type": "code",
      "execution_count": null,
      "id": "4323ac06",
      "metadata": {
        "colab": {
          "base_uri": "https://localhost:8080/"
        },
        "id": "4323ac06",
        "outputId": "23056217-9339-4765-9f1f-49df546183d3"
      },
      "outputs": [],
      "source": [
        "# Compile the model\n",
        "opt = tf.keras.optimizers.SGD(lr=0.001, momentum=0.9)\n",
        "model.compile(loss='categorical_crossentropy',\n",
        "              optimizer=opt,\n",
        "              metrics=['accuracy'])\n",
        "\n",
        "STEP_SIZE_TRAIN=train_gen.n//train_gen.batch_size\n",
        "STEP_SIZE_VALID=validation_gen.n//validation_gen.batch_size\n",
        "\n",
        "history = model.fit_generator(generator=train_gen,\n",
        "                    steps_per_epoch=STEP_SIZE_TRAIN,\n",
        "                    validation_data=validation_gen,\n",
        "                    validation_steps=STEP_SIZE_VALID,\n",
        "                    epochs=EPOCHS,\n",
        "                    callbacks=[callback],\n",
        "                    verbose=1\n",
        ")"
      ]
    },
    {
      "cell_type": "code",
      "execution_count": null,
      "id": "46c7e64f",
      "metadata": {
        "id": "46c7e64f"
      },
      "outputs": [],
      "source": [
        "model.save('model1.keras')"
      ]
    },
    {
      "cell_type": "code",
      "execution_count": null,
      "id": "c4109763",
      "metadata": {
        "id": "c4109763"
      },
      "outputs": [],
      "source": [
        "callback = tf.keras.callbacks.EarlyStopping(monitor='loss', patience=2)\n",
        "\n",
        "model = Sequential()\n",
        "\n",
        "model.add(Conv2D(32, (3, 3), activation='relu', input_shape=(img_width, img_height, 3)))\n",
        "model.add(BatchNormalization())\n",
        "model.add(MaxPooling2D((2, 2)))\n",
        "model.add(Dropout(0.2))\n",
        "\n",
        "model.add(Conv2D(64, (3, 3), activation='relu'))\n",
        "model.add(BatchNormalization())\n",
        "model.add(MaxPooling2D((2, 2)))\n",
        "model.add(Dropout(0.2))\n",
        "\n",
        "model.add(Flatten())\n",
        "model.add(Dense(512, activation='relu'))\n",
        "model.add(BatchNormalization())\n",
        "model.add(Dropout(0.2))\n",
        "model.add(Dense(len(CLASSES), activation='softmax'))\n",
        "\n",
        "model.compile(loss='categorical_crossentropy',\n",
        "              optimizer=Adam(learning_rate=0.0001),\n",
        "              metrics=['accuracy'])"
      ]
    },
    {
      "cell_type": "markdown",
      "id": "68aede5d",
      "metadata": {
        "id": "68aede5d"
      },
      "source": [
        "# Model 2"
      ]
    },
    {
      "cell_type": "code",
      "execution_count": null,
      "id": "e0319b2a",
      "metadata": {
        "id": "e0319b2a",
        "outputId": "ff06924b-2ad5-4a01-b4b0-43fbd80e3fb0"
      },
      "outputs": [],
      "source": [
        "history = model.fit(\n",
        "    train_gen,\n",
        "    steps_per_epoch=len(train_gen),\n",
        "    epochs=EPOCHS,\n",
        "    validation_data=validation_gen,\n",
        "    validation_steps=len(validation_gen)\n",
        ")"
      ]
    },
    {
      "cell_type": "code",
      "execution_count": null,
      "id": "c203d2ab",
      "metadata": {
        "id": "c203d2ab"
      },
      "outputs": [],
      "source": []
    }
  ],
  "metadata": {
    "accelerator": "GPU",
    "colab": {
      "gpuType": "T4",
      "provenance": []
    },
    "kernelspec": {
      "display_name": "Python 3",
      "name": "python3"
    },
    "language_info": {
      "codemirror_mode": {
        "name": "ipython",
        "version": 3
      },
      "file_extension": ".py",
      "mimetype": "text/x-python",
      "name": "python",
      "nbconvert_exporter": "python",
      "pygments_lexer": "ipython3",
      "version": "3.10.9"
    }
  },
  "nbformat": 4,
  "nbformat_minor": 5
}
